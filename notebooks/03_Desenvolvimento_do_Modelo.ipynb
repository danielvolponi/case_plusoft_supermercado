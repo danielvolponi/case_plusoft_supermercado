{
 "cells": [
  {
   "cell_type": "markdown",
   "id": "dd10722f",
   "metadata": {},
   "source": [
    "# 1. Desenvolvimento do Modelo\n",
    "\n",
    "O notebook tem o objetivo de aplicar o modelo de clusterização."
   ]
  },
  {
   "cell_type": "code",
   "execution_count": 1,
   "id": "7c77da7a",
   "metadata": {},
   "outputs": [],
   "source": [
    "# Importando os pacotes necessários para o Notebook\n",
    "import pandas as pd\n",
    "# Normalização\n",
    "from sklearn.preprocessing import Normalizer\n",
    "import numpy as np"
   ]
  },
  {
   "cell_type": "code",
   "execution_count": 2,
   "id": "70c6d361",
   "metadata": {},
   "outputs": [
    {
     "data": {
      "text/html": [
       "<div>\n",
       "<style scoped>\n",
       "    .dataframe tbody tr th:only-of-type {\n",
       "        vertical-align: middle;\n",
       "    }\n",
       "\n",
       "    .dataframe tbody tr th {\n",
       "        vertical-align: top;\n",
       "    }\n",
       "\n",
       "    .dataframe thead th {\n",
       "        text-align: right;\n",
       "    }\n",
       "</style>\n",
       "<table border=\"1\" class=\"dataframe\">\n",
       "  <thead>\n",
       "    <tr style=\"text-align: right;\">\n",
       "      <th></th>\n",
       "      <th>Código</th>\n",
       "      <th>Município</th>\n",
       "      <th>Área (km²)</th>\n",
       "      <th>Densidade demográfica, 2000</th>\n",
       "      <th>Distância à capital (km)</th>\n",
       "      <th>Esperança de vida ao nascer, 2000</th>\n",
       "      <th>Taxa de fecundidade total, 2000</th>\n",
       "      <th>Renda per Capita, 2000</th>\n",
       "      <th>Índice de Gini, 2000</th>\n",
       "      <th>Intensidade da indigência, 2000</th>\n",
       "      <th>...</th>\n",
       "      <th>Índice de Desenvolvimento Humano Municipal, 2000</th>\n",
       "      <th>Taxa bruta de freqüência à escola, 2000</th>\n",
       "      <th>Taxa de alfabetização, 2000</th>\n",
       "      <th>Média de anos de estudo das pessoas de 25 anos ou mais de idade, 2000</th>\n",
       "      <th>Populacao</th>\n",
       "      <th>QTD_TOTAL_CNPJ_SUPERMERCADO</th>\n",
       "      <th>Variacao_Populacao_1991_a_2000</th>\n",
       "      <th>Percentual_Populacao_65_anos</th>\n",
       "      <th>Percentual_Populacao_Urbana</th>\n",
       "      <th>Populacao por Supermercados</th>\n",
       "    </tr>\n",
       "  </thead>\n",
       "  <tbody>\n",
       "    <tr>\n",
       "      <th>0</th>\n",
       "      <td>150010</td>\n",
       "      <td>Abaetetuba (PA)</td>\n",
       "      <td>1613.9</td>\n",
       "      <td>73.8</td>\n",
       "      <td>51.184552</td>\n",
       "      <td>70.77</td>\n",
       "      <td>3.15</td>\n",
       "      <td>102.14</td>\n",
       "      <td>0.59</td>\n",
       "      <td>44.61</td>\n",
       "      <td>...</td>\n",
       "      <td>0.706</td>\n",
       "      <td>81.76</td>\n",
       "      <td>80.74</td>\n",
       "      <td>4.28</td>\n",
       "      <td>119152</td>\n",
       "      <td>254.0</td>\n",
       "      <td>0.191651</td>\n",
       "      <td>0.039345</td>\n",
       "      <td>0.594560</td>\n",
       "      <td>469.102362</td>\n",
       "    </tr>\n",
       "    <tr>\n",
       "      <th>1</th>\n",
       "      <td>290070</td>\n",
       "      <td>Alagoinhas (BA)</td>\n",
       "      <td>736.8</td>\n",
       "      <td>175.9</td>\n",
       "      <td>93.320226</td>\n",
       "      <td>65.34</td>\n",
       "      <td>2.95</td>\n",
       "      <td>181.26</td>\n",
       "      <td>0.60</td>\n",
       "      <td>54.63</td>\n",
       "      <td>...</td>\n",
       "      <td>0.729</td>\n",
       "      <td>90.61</td>\n",
       "      <td>85.71</td>\n",
       "      <td>5.82</td>\n",
       "      <td>130095</td>\n",
       "      <td>287.0</td>\n",
       "      <td>0.112931</td>\n",
       "      <td>0.061563</td>\n",
       "      <td>0.864291</td>\n",
       "      <td>453.292683</td>\n",
       "    </tr>\n",
       "    <tr>\n",
       "      <th>2</th>\n",
       "      <td>430060</td>\n",
       "      <td>Alvorada (RS)</td>\n",
       "      <td>72.9</td>\n",
       "      <td>2516.1</td>\n",
       "      <td>14.838698</td>\n",
       "      <td>69.98</td>\n",
       "      <td>2.80</td>\n",
       "      <td>214.75</td>\n",
       "      <td>0.45</td>\n",
       "      <td>56.91</td>\n",
       "      <td>...</td>\n",
       "      <td>0.768</td>\n",
       "      <td>77.40</td>\n",
       "      <td>94.01</td>\n",
       "      <td>5.86</td>\n",
       "      <td>183968</td>\n",
       "      <td>636.0</td>\n",
       "      <td>0.295130</td>\n",
       "      <td>0.039371</td>\n",
       "      <td>0.996722</td>\n",
       "      <td>289.257862</td>\n",
       "    </tr>\n",
       "    <tr>\n",
       "      <th>3</th>\n",
       "      <td>350160</td>\n",
       "      <td>Americana (SP)</td>\n",
       "      <td>133.9</td>\n",
       "      <td>1359.9</td>\n",
       "      <td>114.560278</td>\n",
       "      <td>72.46</td>\n",
       "      <td>1.96</td>\n",
       "      <td>473.23</td>\n",
       "      <td>0.50</td>\n",
       "      <td>77.52</td>\n",
       "      <td>...</td>\n",
       "      <td>0.840</td>\n",
       "      <td>87.15</td>\n",
       "      <td>95.62</td>\n",
       "      <td>6.93</td>\n",
       "      <td>182593</td>\n",
       "      <td>348.0</td>\n",
       "      <td>0.186902</td>\n",
       "      <td>0.069576</td>\n",
       "      <td>0.997623</td>\n",
       "      <td>524.692529</td>\n",
       "    </tr>\n",
       "    <tr>\n",
       "      <th>4</th>\n",
       "      <td>150080</td>\n",
       "      <td>Ananindeua (PA)</td>\n",
       "      <td>191.4</td>\n",
       "      <td>2053.0</td>\n",
       "      <td>17.749114</td>\n",
       "      <td>72.19</td>\n",
       "      <td>2.35</td>\n",
       "      <td>187.79</td>\n",
       "      <td>0.54</td>\n",
       "      <td>50.21</td>\n",
       "      <td>...</td>\n",
       "      <td>0.782</td>\n",
       "      <td>84.70</td>\n",
       "      <td>94.57</td>\n",
       "      <td>7.01</td>\n",
       "      <td>393569</td>\n",
       "      <td>640.0</td>\n",
       "      <td>0.610071</td>\n",
       "      <td>0.028041</td>\n",
       "      <td>0.997607</td>\n",
       "      <td>614.951563</td>\n",
       "    </tr>\n",
       "  </tbody>\n",
       "</table>\n",
       "<p>5 rows × 21 columns</p>\n",
       "</div>"
      ],
      "text/plain": [
       "   Código        Município  Área (km²)  Densidade demográfica, 2000  \\\n",
       "0  150010  Abaetetuba (PA)      1613.9                         73.8   \n",
       "1  290070  Alagoinhas (BA)       736.8                        175.9   \n",
       "2  430060    Alvorada (RS)        72.9                       2516.1   \n",
       "3  350160   Americana (SP)       133.9                       1359.9   \n",
       "4  150080  Ananindeua (PA)       191.4                       2053.0   \n",
       "\n",
       "   Distância à capital (km)  Esperança de vida ao nascer, 2000  \\\n",
       "0                 51.184552                              70.77   \n",
       "1                 93.320226                              65.34   \n",
       "2                 14.838698                              69.98   \n",
       "3                114.560278                              72.46   \n",
       "4                 17.749114                              72.19   \n",
       "\n",
       "   Taxa de fecundidade total, 2000  Renda per Capita, 2000  \\\n",
       "0                             3.15                  102.14   \n",
       "1                             2.95                  181.26   \n",
       "2                             2.80                  214.75   \n",
       "3                             1.96                  473.23   \n",
       "4                             2.35                  187.79   \n",
       "\n",
       "   Índice de Gini, 2000  Intensidade da indigência, 2000  ...  \\\n",
       "0                  0.59                            44.61  ...   \n",
       "1                  0.60                            54.63  ...   \n",
       "2                  0.45                            56.91  ...   \n",
       "3                  0.50                            77.52  ...   \n",
       "4                  0.54                            50.21  ...   \n",
       "\n",
       "   Índice de Desenvolvimento Humano Municipal, 2000  \\\n",
       "0                                             0.706   \n",
       "1                                             0.729   \n",
       "2                                             0.768   \n",
       "3                                             0.840   \n",
       "4                                             0.782   \n",
       "\n",
       "   Taxa bruta de freqüência à escola, 2000  Taxa de alfabetização, 2000  \\\n",
       "0                                    81.76                        80.74   \n",
       "1                                    90.61                        85.71   \n",
       "2                                    77.40                        94.01   \n",
       "3                                    87.15                        95.62   \n",
       "4                                    84.70                        94.57   \n",
       "\n",
       "   Média de anos de estudo das pessoas de 25 anos ou mais de idade, 2000  \\\n",
       "0                                               4.28                       \n",
       "1                                               5.82                       \n",
       "2                                               5.86                       \n",
       "3                                               6.93                       \n",
       "4                                               7.01                       \n",
       "\n",
       "   Populacao  QTD_TOTAL_CNPJ_SUPERMERCADO  Variacao_Populacao_1991_a_2000  \\\n",
       "0     119152                        254.0                        0.191651   \n",
       "1     130095                        287.0                        0.112931   \n",
       "2     183968                        636.0                        0.295130   \n",
       "3     182593                        348.0                        0.186902   \n",
       "4     393569                        640.0                        0.610071   \n",
       "\n",
       "   Percentual_Populacao_65_anos  Percentual_Populacao_Urbana  \\\n",
       "0                      0.039345                     0.594560   \n",
       "1                      0.061563                     0.864291   \n",
       "2                      0.039371                     0.996722   \n",
       "3                      0.069576                     0.997623   \n",
       "4                      0.028041                     0.997607   \n",
       "\n",
       "   Populacao por Supermercados  \n",
       "0                   469.102362  \n",
       "1                   453.292683  \n",
       "2                   289.257862  \n",
       "3                   524.692529  \n",
       "4                   614.951563  \n",
       "\n",
       "[5 rows x 21 columns]"
      ]
     },
     "execution_count": 2,
     "metadata": {},
     "output_type": "execute_result"
    }
   ],
   "source": [
    "# Importando a Base de Dados\n",
    "df_municipios = pd.read_csv('../data/processed/base_tratada.csv', \n",
    "                        decimal = \".\", \n",
    "                        sep = \";\")\n",
    "df_municipios = df_municipios.dropna()\n",
    "df_municipios.head()"
   ]
  },
  {
   "cell_type": "code",
   "execution_count": 3,
   "id": "475222f2",
   "metadata": {},
   "outputs": [
    {
     "name": "stdout",
     "output_type": "stream",
     "text": [
      "<class 'pandas.core.frame.DataFrame'>\n",
      "Int64Index: 223 entries, 0 to 222\n",
      "Data columns (total 21 columns):\n",
      " #   Column                                                                 Non-Null Count  Dtype  \n",
      "---  ------                                                                 --------------  -----  \n",
      " 0   Código                                                                 223 non-null    int64  \n",
      " 1   Município                                                              223 non-null    object \n",
      " 2   Área (km²)                                                             223 non-null    float64\n",
      " 3   Densidade demográfica, 2000                                            223 non-null    float64\n",
      " 4   Distância à capital (km)                                               223 non-null    float64\n",
      " 5   Esperança de vida ao nascer, 2000                                      223 non-null    float64\n",
      " 6   Taxa de fecundidade total, 2000                                        223 non-null    float64\n",
      " 7   Renda per Capita, 2000                                                 223 non-null    float64\n",
      " 8   Índice de Gini, 2000                                                   223 non-null    float64\n",
      " 9   Intensidade da indigência, 2000                                        223 non-null    float64\n",
      " 10  Intensidade da pobreza, 2000                                           223 non-null    float64\n",
      " 11  Índice de Desenvolvimento Humano Municipal, 2000                       223 non-null    float64\n",
      " 12  Taxa bruta de freqüência à escola, 2000                                223 non-null    float64\n",
      " 13  Taxa de alfabetização, 2000                                            223 non-null    float64\n",
      " 14  Média de anos de estudo das pessoas de 25 anos ou mais de idade, 2000  223 non-null    float64\n",
      " 15  Populacao                                                              223 non-null    int64  \n",
      " 16  QTD_TOTAL_CNPJ_SUPERMERCADO                                            223 non-null    float64\n",
      " 17  Variacao_Populacao_1991_a_2000                                         223 non-null    float64\n",
      " 18  Percentual_Populacao_65_anos                                           223 non-null    float64\n",
      " 19  Percentual_Populacao_Urbana                                            223 non-null    float64\n",
      " 20  Populacao por Supermercados                                            223 non-null    float64\n",
      "dtypes: float64(18), int64(2), object(1)\n",
      "memory usage: 38.3+ KB\n"
     ]
    }
   ],
   "source": [
    "df_municipios.info()"
   ]
  },
  {
   "cell_type": "code",
   "execution_count": 4,
   "id": "5f2e13b5",
   "metadata": {},
   "outputs": [
    {
     "name": "stdout",
     "output_type": "stream",
     "text": [
      "<class 'pandas.core.frame.DataFrame'>\n",
      "Int64Index: 223 entries, 0 to 222\n",
      "Data columns (total 9 columns):\n",
      " #   Column                                            Non-Null Count  Dtype  \n",
      "---  ------                                            --------------  -----  \n",
      " 0   Código                                            223 non-null    int64  \n",
      " 1   Município                                         223 non-null    object \n",
      " 2   Densidade demográfica, 2000                       223 non-null    float64\n",
      " 3   Renda per Capita, 2000                            223 non-null    float64\n",
      " 4   Intensidade da pobreza, 2000                      223 non-null    float64\n",
      " 5   Índice de Desenvolvimento Humano Municipal, 2000  223 non-null    float64\n",
      " 6   Variacao_Populacao_1991_a_2000                    223 non-null    float64\n",
      " 7   Percentual_Populacao_Urbana                       223 non-null    float64\n",
      " 8   Populacao por Supermercados                       223 non-null    float64\n",
      "dtypes: float64(7), int64(1), object(1)\n",
      "memory usage: 17.4+ KB\n"
     ]
    }
   ],
   "source": [
    "# Removendo dados para modelo\n",
    "# df_modelo = df_municipios\n",
    "df_modelo = df_municipios.drop(columns = [\"Área (km²)\", \\\n",
    "                                          'Distância à capital (km)', \\\n",
    "                                          'Intensidade da indigência, 2000', \\\n",
    "                                          'Esperança de vida ao nascer, 2000', \\\n",
    "                                          'Taxa bruta de freqüência à escola, 2000', \\\n",
    "                                          'Média de anos de estudo das pessoas de 25 anos ou mais de idade, 2000', \\\n",
    "                                          'Populacao', \\\n",
    "                                          'Taxa de alfabetização, 2000', \\\n",
    "                                          'QTD_TOTAL_CNPJ_SUPERMERCADO', \\\n",
    "                                          'Percentual_Populacao_65_anos', \\\n",
    "                                          'Índice de Gini, 2000', \\\n",
    "                                          'Taxa de fecundidade total, 2000'])\n",
    "df_modelo.info()"
   ]
  },
  {
   "cell_type": "markdown",
   "id": "b8326917",
   "metadata": {},
   "source": [
    "## 2. Normalização dos Dados\n",
    "Visto que as variáveis tem escalas diferentes é necessário normalizar para que todos tenham a mesma escala."
   ]
  },
  {
   "cell_type": "code",
   "execution_count": 5,
   "id": "49200a2a",
   "metadata": {},
   "outputs": [
    {
     "data": {
      "text/plain": [
       "array([[1.51103290e-01, 2.09128591e-01, 1.04502871e-01, ...,\n",
       "        3.92399849e-04, 1.21734357e-03, 9.60473036e-01],\n",
       "       [3.37393406e-01, 3.47674411e-01, 9.65570442e-02, ...,\n",
       "        2.16613422e-04, 1.65779560e-03, 8.69459706e-01],\n",
       "       [9.89778017e-01, 8.44778940e-02, 1.59711409e-02, ...,\n",
       "        1.16097506e-04, 3.92088462e-04, 1.13787637e-01],\n",
       "       ...,\n",
       "       [2.35912143e-01, 5.92382330e-01, 1.32295829e-01, ...,\n",
       "        4.80406024e-04, 2.48412795e-03, 7.58891203e-01],\n",
       "       [5.77603487e-01, 2.12880145e-01, 8.00214637e-02, ...,\n",
       "        1.65827463e-04, 1.39079322e-03, 7.83995962e-01],\n",
       "       [9.34597135e-01, 2.44955348e-01, 3.06466811e-02, ...,\n",
       "        6.37485311e-05, 7.03356256e-04, 2.56095734e-01]])"
      ]
     },
     "execution_count": 5,
     "metadata": {},
     "output_type": "execute_result"
    }
   ],
   "source": [
    "norm_df = df_modelo.drop(columns = ['Código', 'Município'])\n",
    "norm_df = norm_df.dropna()\n",
    "norm_df = Normalizer().fit_transform(norm_df)\n",
    "norm_df"
   ]
  },
  {
   "cell_type": "code",
   "execution_count": 6,
   "id": "78953b93",
   "metadata": {},
   "outputs": [],
   "source": [
    "transform = df_modelo.drop(columns = ['Código', 'Município'])\n",
    "transform = transform.dropna()\n",
    "transform = Normalizer().fit(transform)\n",
    "# transform.transform(teste)"
   ]
  },
  {
   "cell_type": "code",
   "execution_count": null,
   "id": "aeebc268",
   "metadata": {},
   "outputs": [],
   "source": []
  },
  {
   "cell_type": "markdown",
   "id": "372681b5",
   "metadata": {},
   "source": [
    "## 3. Aplicando a Clusterização\n",
    "### 3.1. k-means"
   ]
  },
  {
   "cell_type": "code",
   "execution_count": 7,
   "id": "2ac48a5d",
   "metadata": {},
   "outputs": [],
   "source": [
    "from sklearn.cluster import KMeans\n",
    "agrupador = KMeans(n_clusters = 10)\n",
    "agrupador.fit(norm_df)\n",
    "labels = agrupador.labels_"
   ]
  },
  {
   "cell_type": "code",
   "execution_count": 8,
   "id": "38d83459",
   "metadata": {},
   "outputs": [],
   "source": [
    "from sklearn.cluster import KMeans\n",
    "from sklearn import metrics\n",
    "\n",
    "# Calculando o Coeficiente de Silhouette\n",
    "def teste_kmeans(df, n_clusters):\n",
    "    np.random.seed(75243)\n",
    "    agrupador = KMeans(n_clusters = n_clusters)\n",
    "    agrupador.fit(df)\n",
    "    labels = agrupador.labels_\n",
    "    silhouette = metrics.silhouette_score(df, labels, metric=\"euclidean\")\n",
    "    model_score = {'n_clusters': n_clusters,\n",
    "                   'silhouette': silhouette}\n",
    "    return model_score"
   ]
  },
  {
   "cell_type": "code",
   "execution_count": 9,
   "id": "cabea99e",
   "metadata": {},
   "outputs": [
    {
     "name": "stdout",
     "output_type": "stream",
     "text": [
      "{'n_clusters': 2, 'silhouette': 0.5703263316079199}\n",
      "{'n_clusters': 3, 'silhouette': 0.4581345187866969}\n",
      "{'n_clusters': 4, 'silhouette': 0.4860758831282236}\n",
      "{'n_clusters': 5, 'silhouette': 0.4534282706990402}\n",
      "{'n_clusters': 6, 'silhouette': 0.4359649407502018}\n",
      "{'n_clusters': 7, 'silhouette': 0.4331226776834987}\n",
      "{'n_clusters': 8, 'silhouette': 0.3934433301981291}\n",
      "{'n_clusters': 9, 'silhouette': 0.3841817982502604}\n"
     ]
    }
   ],
   "source": [
    "for i in range(2, 10):\n",
    "    print(teste_kmeans(norm_df, i))"
   ]
  },
  {
   "cell_type": "code",
   "execution_count": 10,
   "id": "1a990256",
   "metadata": {},
   "outputs": [],
   "source": [
    "np.random.seed(75243)\n",
    "agrupador = KMeans(n_clusters = 4)\n",
    "agrupador.fit(norm_df)\n",
    "labels_kmeans = agrupador.labels_\n",
    "silhouette = metrics.silhouette_score(norm_df, labels, metric=\"euclidean\")"
   ]
  },
  {
   "cell_type": "code",
   "execution_count": 11,
   "id": "5223a81c",
   "metadata": {},
   "outputs": [
    {
     "data": {
      "text/plain": [
       "array([3], dtype=int32)"
      ]
     },
     "execution_count": 11,
     "metadata": {},
     "output_type": "execute_result"
    }
   ],
   "source": [
    "agrupador.predict(norm_df[181:182])"
   ]
  },
  {
   "cell_type": "code",
   "execution_count": 22,
   "id": "fc24041c",
   "metadata": {},
   "outputs": [
    {
     "name": "stderr",
     "output_type": "stream",
     "text": [
      "<ipython-input-22-a3b13df00e62>:7: DeprecationWarning:\n",
      "\n",
      "`np.float` is a deprecated alias for the builtin `float`. To silence this warning, use `float` by itself. Doing this will not modify any behavior and is safe. If you specifically wanted the numpy scalar type, use `np.float64` here.\n",
      "Deprecated in NumPy 1.20; for more details and guidance: https://numpy.org/devdocs/release/1.20.0-notes.html#deprecations\n",
      "\n"
     ]
    },
    {
     "data": {
      "application/vnd.plotly.v1+json": {
       "config": {
        "plotlyServerURL": "https://plot.ly"
       },
       "data": [
        {
         "marker": {
          "color": [
           3,
           3,
           0,
           0,
           0,
           1,
           3,
           0,
           2,
           0,
           2,
           2,
           2,
           0,
           2,
           2,
           2,
           1,
           2,
           2,
           1,
           3,
           2,
           0,
           1,
           0,
           1,
           0,
           1,
           1,
           2,
           2,
           2,
           2,
           3,
           1,
           0,
           2,
           3,
           0,
           1,
           0,
           2,
           2,
           0,
           0,
           0,
           3,
           2,
           3,
           1,
           3,
           3,
           2,
           2,
           3,
           3,
           0,
           1,
           0,
           1,
           3,
           1,
           1,
           2,
           0,
           0,
           3,
           2,
           0,
           0,
           1,
           0,
           1,
           0,
           1,
           1,
           0,
           1,
           1,
           0,
           2,
           1,
           2,
           2,
           0,
           0,
           0,
           0,
           3,
           2,
           1,
           0,
           1,
           1,
           1,
           1,
           2,
           0,
           0,
           2,
           0,
           1,
           3,
           3,
           3,
           2,
           0,
           1,
           3,
           0,
           2,
           1,
           2,
           0,
           1,
           2,
           2,
           2,
           2,
           2,
           0,
           1,
           2,
           2,
           0,
           1,
           3,
           0,
           1,
           2,
           3,
           0,
           0,
           0,
           1,
           2,
           0,
           0,
           0,
           0,
           1,
           2,
           2,
           1,
           1,
           2,
           2,
           0,
           2,
           3,
           1,
           2,
           0,
           2,
           2,
           2,
           0,
           2,
           2,
           0,
           2,
           3,
           0,
           2,
           0,
           1,
           1,
           2,
           2,
           0,
           2,
           2,
           2,
           1,
           0,
           1,
           2,
           1,
           2,
           3,
           3,
           0,
           0,
           0,
           0,
           0,
           2,
           0,
           0,
           0,
           1,
           1,
           1,
           2,
           0,
           0,
           0,
           0,
           1,
           3,
           3,
           0,
           0,
           0,
           0,
           1,
           3,
           2,
           1,
           2,
           3,
           2,
           2,
           2,
           2,
           1,
           2,
           0,
           0,
           2,
           1,
           0
          ]
         },
         "mode": "markers",
         "text": [
          3,
          3,
          0,
          0,
          0,
          1,
          3,
          0,
          2,
          0,
          2,
          2,
          2,
          0,
          2,
          2,
          2,
          1,
          2,
          2,
          1,
          3,
          2,
          0,
          1,
          0,
          1,
          0,
          1,
          1,
          2,
          2,
          2,
          2,
          3,
          1,
          0,
          2,
          3,
          0,
          1,
          0,
          2,
          2,
          0,
          0,
          0,
          3,
          2,
          3,
          1,
          3,
          3,
          2,
          2,
          3,
          3,
          0,
          1,
          0,
          1,
          3,
          1,
          1,
          2,
          0,
          0,
          3,
          2,
          0,
          0,
          1,
          0,
          1,
          0,
          1,
          1,
          0,
          1,
          1,
          0,
          2,
          1,
          2,
          2,
          0,
          0,
          0,
          0,
          3,
          2,
          1,
          0,
          1,
          1,
          1,
          1,
          2,
          0,
          0,
          2,
          0,
          1,
          3,
          3,
          3,
          2,
          0,
          1,
          3,
          0,
          2,
          1,
          2,
          0,
          1,
          2,
          2,
          2,
          2,
          2,
          0,
          1,
          2,
          2,
          0,
          1,
          3,
          0,
          1,
          2,
          3,
          0,
          0,
          0,
          1,
          2,
          0,
          0,
          0,
          0,
          1,
          2,
          2,
          1,
          1,
          2,
          2,
          0,
          2,
          3,
          1,
          2,
          0,
          2,
          2,
          2,
          0,
          2,
          2,
          0,
          2,
          3,
          0,
          2,
          0,
          1,
          1,
          2,
          2,
          0,
          2,
          2,
          2,
          1,
          0,
          1,
          2,
          1,
          2,
          3,
          3,
          0,
          0,
          0,
          0,
          0,
          2,
          0,
          0,
          0,
          1,
          1,
          1,
          2,
          0,
          0,
          0,
          0,
          1,
          3,
          3,
          0,
          0,
          0,
          0,
          1,
          3,
          2,
          1,
          2,
          3,
          2,
          2,
          2,
          2,
          1,
          2,
          0,
          0,
          2,
          1,
          0
         ],
         "type": "scatter",
         "x": [
          0.9604730360259522,
          0.8694597060899953,
          0.11378763671854633,
          0.3422363649720823,
          0.2857866142592876,
          0.5984901725653218,
          0.8551553381435528,
          0.24506145084899666,
          0.7151041040330953,
          0.18075020616357482,
          0.7165214430092209,
          0.5958387859583487,
          0.6084123868151076,
          0.3986160501537195,
          0.6769902982547223,
          0.7377248452755937,
          0.6401465726041332,
          0.6998668943855644,
          0.533392017890904,
          0.7744816023374069,
          0.5469289538820485,
          0.8909978578044726,
          0.7083283738083029,
          0.19983277718627185,
          0.5441672052884736,
          0.31854375493940723,
          0.669431649948497,
          0.05799631816600267,
          0.681499900555228,
          0.683667408512006,
          0.4167079931464174,
          0.8140235285361752,
          0.5269827153666781,
          0.4685325095872687,
          0.8582517014011913,
          0.6320231087201169,
          0.09614986549351091,
          0.6553413544803128,
          0.8799455088052774,
          0.3477628496853333,
          0.5679248736883605,
          0.3401014552142058,
          0.5482905141142885,
          0.6944550593681938,
          0.12207536348775172,
          0.07126470780064424,
          0.29772395090693266,
          0.863559920155137,
          0.5996155166304818,
          0.9290744549504338,
          0.5923109308831042,
          0.9023582881578731,
          0.9653320482805092,
          0.6270550340103938,
          0.6038329512573315,
          0.9731163962744768,
          0.8421098252548741,
          0.2644440251595325,
          0.6987828812278726,
          0.15064733572818964,
          0.7229153097162639,
          0.8953570657015522,
          0.472406177708546,
          0.8000047516412405,
          0.4243678407689547,
          0.11290993196003642,
          0.0794065148723546,
          0.8283118216788353,
          0.7342265569924669,
          0.2691776163792865,
          0.24284925796511644,
          0.7772814037666114,
          0.14346700074912813,
          0.3238676034126179,
          0.04218711988694724,
          0.5105726358719569,
          0.4257103031685209,
          0.26587190952474055,
          0.6677160623435241,
          0.6862627794008895,
          0.13598123298494522,
          0.7524574570867972,
          0.4317147816016711,
          0.5851553582731166,
          0.5920546053092333,
          0.27012260364391744,
          0.16239081150902668,
          0.41193044453028677,
          0.3419484511365626,
          0.9064930780875858,
          0.7084392975810401,
          0.696672904879264,
          0.2834766443534665,
          0.6301526708645375,
          0.49934186332387137,
          0.4668266686249072,
          0.5747438924522819,
          0.7828271872764632,
          0.4174077261449722,
          0.24326385033117218,
          0.7712953406050118,
          0.20694645280573695,
          0.73237070013937,
          0.8687137016117046,
          0.8277427559035927,
          0.9363211989742429,
          0.5483325103446816,
          0.15363887365945136,
          0.5325910619221855,
          0.8882597201354009,
          0.4515911280510553,
          0.6579945765003551,
          0.4848045675337377,
          0.7122361963230242,
          0.26463952390011525,
          0.5856570562979275,
          0.7280469026785334,
          0.6181008705401126,
          0.5872578673974477,
          0.7097864946940967,
          0.7066024322598471,
          0.16725005270640925,
          0.5853063363873194,
          0.6337562459639619,
          0.7378454990452386,
          0.45691612603673815,
          0.43725534858327053,
          0.8400112816093427,
          0.14980552271633268,
          0.5968932934344007,
          0.6641011509562247,
          0.9287042604215573,
          0.09054797852488324,
          0.031312416586354364,
          0.16753017180617238,
          0.8160350353913159,
          0.6689945323360164,
          0.13386741798925345,
          0.31399668128765346,
          0.03903439235402931,
          0.0499448654013127,
          0.5729462314044705,
          0.5039036576162029,
          0.7336848174881544,
          0.683536313725178,
          0.5526231204973758,
          0.536966976600485,
          0.7832799608449256,
          0.15295237207981827,
          0.5182401451783767,
          0.8769324434384465,
          0.7494756928893603,
          0.7783039296451122,
          0.49886693878163546,
          0.692844851313581,
          0.42369357500314314,
          0.6581237589664781,
          0.10537439736776211,
          0.3507925972933262,
          0.7476959297746484,
          0.34732025530269794,
          0.5047846745037955,
          0.9588070401376432,
          0.05578132284131573,
          0.574094383893463,
          0.33706158828978944,
          0.5414453793989187,
          0.4420914977638586,
          0.5762112058288229,
          0.6026364914672538,
          0.15558833809718162,
          0.5755097227814345,
          0.49636432233006816,
          0.601182223450738,
          0.8099603426270117,
          0.1676164146531305,
          0.7330200634400251,
          0.6237025123622494,
          0.6147898309174915,
          0.5008185698843877,
          0.9207778715984127,
          0.9423945782563484,
          0.15561483903461426,
          0.2646261084725376,
          0.1441791845815326,
          0.44490440619005855,
          0.05088770768471157,
          0.6204153274576226,
          0.11825492366624132,
          0.023823479829385572,
          0.1849717920039591,
          0.7845965366792035,
          0.4104610868138763,
          0.6749896915646941,
          0.720683692677465,
          0.17107954807384093,
          0.23088546523072784,
          0.0686438507679125,
          0.24849087003814735,
          0.4849809130873696,
          0.8231355875403997,
          0.9311596868339063,
          0.3837521536613831,
          0.2888408159617251,
          0.4441020716775486,
          0.05655217280080032,
          0.6556187084519921,
          0.9533614648354022,
          0.6883747420283147,
          0.42582910031501986,
          0.758484874002799,
          0.9838305943951627,
          0.6782118599352407,
          0.6374836760998408,
          0.5092665276927172,
          0.6251051658524847,
          0.6021594213989248,
          0.6746758364711762,
          0.1932733414777707,
          0.10315987395270661,
          0.758891202649776,
          0.7839959615896721,
          0.256095734363217
         ],
         "y": [
          0.20912859069525863,
          0.34767441051174464,
          0.0844778940394839,
          0.30866937515960086,
          0.08727170002393744,
          0.5904017830859645,
          0.45269613153703875,
          0.1663177499375117,
          0.577762493892151,
          0.135518572836278,
          0.6688590973707575,
          0.7785906089728677,
          0.7835428428791957,
          0.22566973029708276,
          0.6787241140730189,
          0.6180949833451724,
          0.6801404918068295,
          0.18806879362712875,
          0.8352329680742862,
          0.5604659630899561,
          0.5651080083847209,
          0.4446027208467939,
          0.6938617417106262,
          0.147963122665272,
          0.6115333436603407,
          0.2405106911555196,
          0.02500291173562686,
          0.08255219586137374,
          0.16528557588145443,
          0.48769514652416956,
          0.8940581686854271,
          0.5701610015668144,
          0.7228740229226881,
          0.7629493897525835,
          0.18367372978479687,
          0.5424855049896417,
          0.127141061336269,
          0.6124848277052433,
          0.2858355212378211,
          0.060924294295544336,
          0.3122143701902227,
          0.42474592767318,
          0.8152836815970669,
          0.6597003128265839,
          0.14859729137789032,
          0.027980917116968432,
          0.17801392295631893,
          0.3056690378598507,
          0.7521748013718598,
          0.28244012639452765,
          0.5861565423620763,
          0.22206975544062454,
          0.22628207663119637,
          0.7050985667046603,
          0.6541112364808461,
          0.17582652911398453,
          0.5209184941353571,
          0.1934894389736022,
          0.4860152630404932,
          0.10040804235007657,
          0.4732698047280635,
          0.3767154576522773,
          0.39579471346479556,
          0.19958223593482247,
          0.8698546863060062,
          0.1648945163768609,
          0.025100059009558855,
          0.43814625477376584,
          0.6678190011820013,
          0.1303068535660304,
          0.08024715356812664,
          0.31211185126770674,
          0.043917949748977794,
          0.6410572983847198,
          0.04492379347336191,
          0.5121091347883466,
          0.5474614051893316,
          0.06260878114940503,
          0.2169178038166321,
          0.3981046232461293,
          0.3240932685902463,
          0.6184882971154451,
          0.4595170509680295,
          0.792070669150174,
          0.7586214672413784,
          0.15792665407643888,
          0.10016734455517853,
          0.09656840337874308,
          0.07727944010935628,
          0.33621655110815585,
          0.5494436127266811,
          0.49114700719026116,
          0.22413040544653462,
          0.32500905728765106,
          0.36649395046419814,
          0.5499695066936264,
          0.2531090822312137,
          0.6041453963548157,
          0.10541422909838294,
          0.05625158579859893,
          0.5663174188216314,
          0.10158165819208176,
          0.44041459361474006,
          0.44436816985734184,
          0.5188750328767321,
          0.31535340217106644,
          0.8256812504408261,
          0.11635589701829238,
          0.6048586322679979,
          0.43937453333668863,
          0.14374476870191888,
          0.6041272808523913,
          0.5185760611736578,
          0.686385214048661,
          0.16232429903455659,
          0.5286261942211512,
          0.6734221480944438,
          0.6754669469286121,
          0.7812870642500401,
          0.6758821477812833,
          0.6858812338774785,
          0.17656253959929122,
          0.29623948113279197,
          0.6908194855122475,
          0.6526033968573618,
          0.06498575097012133,
          0.5576143243341505,
          0.5020333966973907,
          0.04678976339586109,
          0.5185200712790708,
          0.6972093671356017,
          0.3158810950298985,
          0.08080230960167095,
          0.03724967953644431,
          0.22335457484594384,
          0.07847381684973297,
          0.6608790127384778,
          0.14228699846782855,
          0.3196350296913371,
          0.02657379187007061,
          0.03896650499700285,
          0.5600512885555079,
          0.847239958305963,
          0.5999493995637656,
          0.3431184152056706,
          0.21681165841282185,
          0.7370250911981173,
          0.613388427235065,
          0.08201652682399539,
          0.7395940112341611,
          0.45622633276643876,
          0.4853765678769591,
          0.5536100937425444,
          0.14759854071293227,
          0.6361889484994975,
          0.78510822126766,
          0.6903988970149336,
          0.2492724519806392,
          0.9258542003579121,
          0.5915822630885916,
          0.2556267892844704,
          0.70695997381071,
          0.033080740960049676,
          0.06015684633380572,
          0.7886493174433937,
          0.09343960160986181,
          0.2743654833149048,
          0.5123672377405667,
          0.8020009121886377,
          0.6463092769230315,
          0.12630273591846106,
          0.7936241562155611,
          0.8625082193450508,
          0.7844529406139928,
          0.28896356169832643,
          0.09732206931703499,
          0.3140603813052782,
          0.7094452086174883,
          0.1867584830293954,
          0.8233329129540164,
          0.21546650486828897,
          0.3128573537289587,
          0.1355712745775851,
          0.4245084241736399,
          0.12590774909480038,
          0.2523232407115359,
          0.09114323597431405,
          0.7333353017972734,
          0.0751555697322677,
          0.018089197555593177,
          0.2738736310641151,
          0.28405311365266145,
          0.4806702735078354,
          0.5100252612804604,
          0.5632806754918872,
          0.19756987877034604,
          0.22836217795961933,
          0.08903444639996391,
          0.15530606111498513,
          0.32463459416415924,
          0.35991027079545346,
          0.31630956528522425,
          0.34856442629330603,
          0.21279539535423686,
          0.21526155039086703,
          0.03697791736525585,
          0.575439036251655,
          0.26769548381717667,
          0.6977995785568889,
          0.4578287380908342,
          0.5840033060368057,
          0.13670862128842898,
          0.7250802707676676,
          0.7323535039492552,
          0.8496906760916848,
          0.6335816900849012,
          0.5715903591799115,
          0.6273439279331702,
          0.26577974070232174,
          0.19840677742181334,
          0.592382330350176,
          0.21288014484317008,
          0.24495534827340584
         ]
        }
       ],
       "layout": {
        "font": {
         "color": "#7f7f7f",
         "size": 18
        },
        "template": {
         "data": {
          "bar": [
           {
            "error_x": {
             "color": "#2a3f5f"
            },
            "error_y": {
             "color": "#2a3f5f"
            },
            "marker": {
             "line": {
              "color": "#E5ECF6",
              "width": 0.5
             }
            },
            "type": "bar"
           }
          ],
          "barpolar": [
           {
            "marker": {
             "line": {
              "color": "#E5ECF6",
              "width": 0.5
             }
            },
            "type": "barpolar"
           }
          ],
          "carpet": [
           {
            "aaxis": {
             "endlinecolor": "#2a3f5f",
             "gridcolor": "white",
             "linecolor": "white",
             "minorgridcolor": "white",
             "startlinecolor": "#2a3f5f"
            },
            "baxis": {
             "endlinecolor": "#2a3f5f",
             "gridcolor": "white",
             "linecolor": "white",
             "minorgridcolor": "white",
             "startlinecolor": "#2a3f5f"
            },
            "type": "carpet"
           }
          ],
          "choropleth": [
           {
            "colorbar": {
             "outlinewidth": 0,
             "ticks": ""
            },
            "type": "choropleth"
           }
          ],
          "contour": [
           {
            "colorbar": {
             "outlinewidth": 0,
             "ticks": ""
            },
            "colorscale": [
             [
              0,
              "#0d0887"
             ],
             [
              0.1111111111111111,
              "#46039f"
             ],
             [
              0.2222222222222222,
              "#7201a8"
             ],
             [
              0.3333333333333333,
              "#9c179e"
             ],
             [
              0.4444444444444444,
              "#bd3786"
             ],
             [
              0.5555555555555556,
              "#d8576b"
             ],
             [
              0.6666666666666666,
              "#ed7953"
             ],
             [
              0.7777777777777778,
              "#fb9f3a"
             ],
             [
              0.8888888888888888,
              "#fdca26"
             ],
             [
              1,
              "#f0f921"
             ]
            ],
            "type": "contour"
           }
          ],
          "contourcarpet": [
           {
            "colorbar": {
             "outlinewidth": 0,
             "ticks": ""
            },
            "type": "contourcarpet"
           }
          ],
          "heatmap": [
           {
            "colorbar": {
             "outlinewidth": 0,
             "ticks": ""
            },
            "colorscale": [
             [
              0,
              "#0d0887"
             ],
             [
              0.1111111111111111,
              "#46039f"
             ],
             [
              0.2222222222222222,
              "#7201a8"
             ],
             [
              0.3333333333333333,
              "#9c179e"
             ],
             [
              0.4444444444444444,
              "#bd3786"
             ],
             [
              0.5555555555555556,
              "#d8576b"
             ],
             [
              0.6666666666666666,
              "#ed7953"
             ],
             [
              0.7777777777777778,
              "#fb9f3a"
             ],
             [
              0.8888888888888888,
              "#fdca26"
             ],
             [
              1,
              "#f0f921"
             ]
            ],
            "type": "heatmap"
           }
          ],
          "heatmapgl": [
           {
            "colorbar": {
             "outlinewidth": 0,
             "ticks": ""
            },
            "colorscale": [
             [
              0,
              "#0d0887"
             ],
             [
              0.1111111111111111,
              "#46039f"
             ],
             [
              0.2222222222222222,
              "#7201a8"
             ],
             [
              0.3333333333333333,
              "#9c179e"
             ],
             [
              0.4444444444444444,
              "#bd3786"
             ],
             [
              0.5555555555555556,
              "#d8576b"
             ],
             [
              0.6666666666666666,
              "#ed7953"
             ],
             [
              0.7777777777777778,
              "#fb9f3a"
             ],
             [
              0.8888888888888888,
              "#fdca26"
             ],
             [
              1,
              "#f0f921"
             ]
            ],
            "type": "heatmapgl"
           }
          ],
          "histogram": [
           {
            "marker": {
             "colorbar": {
              "outlinewidth": 0,
              "ticks": ""
             }
            },
            "type": "histogram"
           }
          ],
          "histogram2d": [
           {
            "colorbar": {
             "outlinewidth": 0,
             "ticks": ""
            },
            "colorscale": [
             [
              0,
              "#0d0887"
             ],
             [
              0.1111111111111111,
              "#46039f"
             ],
             [
              0.2222222222222222,
              "#7201a8"
             ],
             [
              0.3333333333333333,
              "#9c179e"
             ],
             [
              0.4444444444444444,
              "#bd3786"
             ],
             [
              0.5555555555555556,
              "#d8576b"
             ],
             [
              0.6666666666666666,
              "#ed7953"
             ],
             [
              0.7777777777777778,
              "#fb9f3a"
             ],
             [
              0.8888888888888888,
              "#fdca26"
             ],
             [
              1,
              "#f0f921"
             ]
            ],
            "type": "histogram2d"
           }
          ],
          "histogram2dcontour": [
           {
            "colorbar": {
             "outlinewidth": 0,
             "ticks": ""
            },
            "colorscale": [
             [
              0,
              "#0d0887"
             ],
             [
              0.1111111111111111,
              "#46039f"
             ],
             [
              0.2222222222222222,
              "#7201a8"
             ],
             [
              0.3333333333333333,
              "#9c179e"
             ],
             [
              0.4444444444444444,
              "#bd3786"
             ],
             [
              0.5555555555555556,
              "#d8576b"
             ],
             [
              0.6666666666666666,
              "#ed7953"
             ],
             [
              0.7777777777777778,
              "#fb9f3a"
             ],
             [
              0.8888888888888888,
              "#fdca26"
             ],
             [
              1,
              "#f0f921"
             ]
            ],
            "type": "histogram2dcontour"
           }
          ],
          "mesh3d": [
           {
            "colorbar": {
             "outlinewidth": 0,
             "ticks": ""
            },
            "type": "mesh3d"
           }
          ],
          "parcoords": [
           {
            "line": {
             "colorbar": {
              "outlinewidth": 0,
              "ticks": ""
             }
            },
            "type": "parcoords"
           }
          ],
          "pie": [
           {
            "automargin": true,
            "type": "pie"
           }
          ],
          "scatter": [
           {
            "marker": {
             "colorbar": {
              "outlinewidth": 0,
              "ticks": ""
             }
            },
            "type": "scatter"
           }
          ],
          "scatter3d": [
           {
            "line": {
             "colorbar": {
              "outlinewidth": 0,
              "ticks": ""
             }
            },
            "marker": {
             "colorbar": {
              "outlinewidth": 0,
              "ticks": ""
             }
            },
            "type": "scatter3d"
           }
          ],
          "scattercarpet": [
           {
            "marker": {
             "colorbar": {
              "outlinewidth": 0,
              "ticks": ""
             }
            },
            "type": "scattercarpet"
           }
          ],
          "scattergeo": [
           {
            "marker": {
             "colorbar": {
              "outlinewidth": 0,
              "ticks": ""
             }
            },
            "type": "scattergeo"
           }
          ],
          "scattergl": [
           {
            "marker": {
             "colorbar": {
              "outlinewidth": 0,
              "ticks": ""
             }
            },
            "type": "scattergl"
           }
          ],
          "scattermapbox": [
           {
            "marker": {
             "colorbar": {
              "outlinewidth": 0,
              "ticks": ""
             }
            },
            "type": "scattermapbox"
           }
          ],
          "scatterpolar": [
           {
            "marker": {
             "colorbar": {
              "outlinewidth": 0,
              "ticks": ""
             }
            },
            "type": "scatterpolar"
           }
          ],
          "scatterpolargl": [
           {
            "marker": {
             "colorbar": {
              "outlinewidth": 0,
              "ticks": ""
             }
            },
            "type": "scatterpolargl"
           }
          ],
          "scatterternary": [
           {
            "marker": {
             "colorbar": {
              "outlinewidth": 0,
              "ticks": ""
             }
            },
            "type": "scatterternary"
           }
          ],
          "surface": [
           {
            "colorbar": {
             "outlinewidth": 0,
             "ticks": ""
            },
            "colorscale": [
             [
              0,
              "#0d0887"
             ],
             [
              0.1111111111111111,
              "#46039f"
             ],
             [
              0.2222222222222222,
              "#7201a8"
             ],
             [
              0.3333333333333333,
              "#9c179e"
             ],
             [
              0.4444444444444444,
              "#bd3786"
             ],
             [
              0.5555555555555556,
              "#d8576b"
             ],
             [
              0.6666666666666666,
              "#ed7953"
             ],
             [
              0.7777777777777778,
              "#fb9f3a"
             ],
             [
              0.8888888888888888,
              "#fdca26"
             ],
             [
              1,
              "#f0f921"
             ]
            ],
            "type": "surface"
           }
          ],
          "table": [
           {
            "cells": {
             "fill": {
              "color": "#EBF0F8"
             },
             "line": {
              "color": "white"
             }
            },
            "header": {
             "fill": {
              "color": "#C8D4E3"
             },
             "line": {
              "color": "white"
             }
            },
            "type": "table"
           }
          ]
         },
         "layout": {
          "annotationdefaults": {
           "arrowcolor": "#2a3f5f",
           "arrowhead": 0,
           "arrowwidth": 1
          },
          "autotypenumbers": "strict",
          "coloraxis": {
           "colorbar": {
            "outlinewidth": 0,
            "ticks": ""
           }
          },
          "colorscale": {
           "diverging": [
            [
             0,
             "#8e0152"
            ],
            [
             0.1,
             "#c51b7d"
            ],
            [
             0.2,
             "#de77ae"
            ],
            [
             0.3,
             "#f1b6da"
            ],
            [
             0.4,
             "#fde0ef"
            ],
            [
             0.5,
             "#f7f7f7"
            ],
            [
             0.6,
             "#e6f5d0"
            ],
            [
             0.7,
             "#b8e186"
            ],
            [
             0.8,
             "#7fbc41"
            ],
            [
             0.9,
             "#4d9221"
            ],
            [
             1,
             "#276419"
            ]
           ],
           "sequential": [
            [
             0,
             "#0d0887"
            ],
            [
             0.1111111111111111,
             "#46039f"
            ],
            [
             0.2222222222222222,
             "#7201a8"
            ],
            [
             0.3333333333333333,
             "#9c179e"
            ],
            [
             0.4444444444444444,
             "#bd3786"
            ],
            [
             0.5555555555555556,
             "#d8576b"
            ],
            [
             0.6666666666666666,
             "#ed7953"
            ],
            [
             0.7777777777777778,
             "#fb9f3a"
            ],
            [
             0.8888888888888888,
             "#fdca26"
            ],
            [
             1,
             "#f0f921"
            ]
           ],
           "sequentialminus": [
            [
             0,
             "#0d0887"
            ],
            [
             0.1111111111111111,
             "#46039f"
            ],
            [
             0.2222222222222222,
             "#7201a8"
            ],
            [
             0.3333333333333333,
             "#9c179e"
            ],
            [
             0.4444444444444444,
             "#bd3786"
            ],
            [
             0.5555555555555556,
             "#d8576b"
            ],
            [
             0.6666666666666666,
             "#ed7953"
            ],
            [
             0.7777777777777778,
             "#fb9f3a"
            ],
            [
             0.8888888888888888,
             "#fdca26"
            ],
            [
             1,
             "#f0f921"
            ]
           ]
          },
          "colorway": [
           "#636efa",
           "#EF553B",
           "#00cc96",
           "#ab63fa",
           "#FFA15A",
           "#19d3f3",
           "#FF6692",
           "#B6E880",
           "#FF97FF",
           "#FECB52"
          ],
          "font": {
           "color": "#2a3f5f"
          },
          "geo": {
           "bgcolor": "white",
           "lakecolor": "white",
           "landcolor": "#E5ECF6",
           "showlakes": true,
           "showland": true,
           "subunitcolor": "white"
          },
          "hoverlabel": {
           "align": "left"
          },
          "hovermode": "closest",
          "mapbox": {
           "style": "light"
          },
          "paper_bgcolor": "white",
          "plot_bgcolor": "#E5ECF6",
          "polar": {
           "angularaxis": {
            "gridcolor": "white",
            "linecolor": "white",
            "ticks": ""
           },
           "bgcolor": "#E5ECF6",
           "radialaxis": {
            "gridcolor": "white",
            "linecolor": "white",
            "ticks": ""
           }
          },
          "scene": {
           "xaxis": {
            "backgroundcolor": "#E5ECF6",
            "gridcolor": "white",
            "gridwidth": 2,
            "linecolor": "white",
            "showbackground": true,
            "ticks": "",
            "zerolinecolor": "white"
           },
           "yaxis": {
            "backgroundcolor": "#E5ECF6",
            "gridcolor": "white",
            "gridwidth": 2,
            "linecolor": "white",
            "showbackground": true,
            "ticks": "",
            "zerolinecolor": "white"
           },
           "zaxis": {
            "backgroundcolor": "#E5ECF6",
            "gridcolor": "white",
            "gridwidth": 2,
            "linecolor": "white",
            "showbackground": true,
            "ticks": "",
            "zerolinecolor": "white"
           }
          },
          "shapedefaults": {
           "line": {
            "color": "#2a3f5f"
           }
          },
          "ternary": {
           "aaxis": {
            "gridcolor": "white",
            "linecolor": "white",
            "ticks": ""
           },
           "baxis": {
            "gridcolor": "white",
            "linecolor": "white",
            "ticks": ""
           },
           "bgcolor": "#E5ECF6",
           "caxis": {
            "gridcolor": "white",
            "linecolor": "white",
            "ticks": ""
           }
          },
          "title": {
           "x": 0.05
          },
          "xaxis": {
           "automargin": true,
           "gridcolor": "white",
           "linecolor": "white",
           "ticks": "",
           "title": {
            "standoff": 15
           },
           "zerolinecolor": "white",
           "zerolinewidth": 2
          },
          "yaxis": {
           "automargin": true,
           "gridcolor": "white",
           "linecolor": "white",
           "ticks": "",
           "title": {
            "standoff": 15
           },
           "zerolinecolor": "white",
           "zerolinewidth": 2
          }
         }
        },
        "xaxis": {
         "title": {
          "text": "População por Supermercados"
         }
        },
        "yaxis": {
         "title": {
          "text": "Renda per Capita"
         }
        }
       }
      },
      "text/html": [
       "<div>                            <div id=\"63d23231-9387-4598-9f78-a3101cb872d4\" class=\"plotly-graph-div\" style=\"height:525px; width:100%;\"></div>            <script type=\"text/javascript\">                require([\"plotly\"], function(Plotly) {                    window.PLOTLYENV=window.PLOTLYENV || {};                                    if (document.getElementById(\"63d23231-9387-4598-9f78-a3101cb872d4\")) {                    Plotly.newPlot(                        \"63d23231-9387-4598-9f78-a3101cb872d4\",                        [{\"marker\": {\"color\": [3.0, 3.0, 0.0, 0.0, 0.0, 1.0, 3.0, 0.0, 2.0, 0.0, 2.0, 2.0, 2.0, 0.0, 2.0, 2.0, 2.0, 1.0, 2.0, 2.0, 1.0, 3.0, 2.0, 0.0, 1.0, 0.0, 1.0, 0.0, 1.0, 1.0, 2.0, 2.0, 2.0, 2.0, 3.0, 1.0, 0.0, 2.0, 3.0, 0.0, 1.0, 0.0, 2.0, 2.0, 0.0, 0.0, 0.0, 3.0, 2.0, 3.0, 1.0, 3.0, 3.0, 2.0, 2.0, 3.0, 3.0, 0.0, 1.0, 0.0, 1.0, 3.0, 1.0, 1.0, 2.0, 0.0, 0.0, 3.0, 2.0, 0.0, 0.0, 1.0, 0.0, 1.0, 0.0, 1.0, 1.0, 0.0, 1.0, 1.0, 0.0, 2.0, 1.0, 2.0, 2.0, 0.0, 0.0, 0.0, 0.0, 3.0, 2.0, 1.0, 0.0, 1.0, 1.0, 1.0, 1.0, 2.0, 0.0, 0.0, 2.0, 0.0, 1.0, 3.0, 3.0, 3.0, 2.0, 0.0, 1.0, 3.0, 0.0, 2.0, 1.0, 2.0, 0.0, 1.0, 2.0, 2.0, 2.0, 2.0, 2.0, 0.0, 1.0, 2.0, 2.0, 0.0, 1.0, 3.0, 0.0, 1.0, 2.0, 3.0, 0.0, 0.0, 0.0, 1.0, 2.0, 0.0, 0.0, 0.0, 0.0, 1.0, 2.0, 2.0, 1.0, 1.0, 2.0, 2.0, 0.0, 2.0, 3.0, 1.0, 2.0, 0.0, 2.0, 2.0, 2.0, 0.0, 2.0, 2.0, 0.0, 2.0, 3.0, 0.0, 2.0, 0.0, 1.0, 1.0, 2.0, 2.0, 0.0, 2.0, 2.0, 2.0, 1.0, 0.0, 1.0, 2.0, 1.0, 2.0, 3.0, 3.0, 0.0, 0.0, 0.0, 0.0, 0.0, 2.0, 0.0, 0.0, 0.0, 1.0, 1.0, 1.0, 2.0, 0.0, 0.0, 0.0, 0.0, 1.0, 3.0, 3.0, 0.0, 0.0, 0.0, 0.0, 1.0, 3.0, 2.0, 1.0, 2.0, 3.0, 2.0, 2.0, 2.0, 2.0, 1.0, 2.0, 0.0, 0.0, 2.0, 1.0, 0.0]}, \"mode\": \"markers\", \"text\": [3.0, 3.0, 0.0, 0.0, 0.0, 1.0, 3.0, 0.0, 2.0, 0.0, 2.0, 2.0, 2.0, 0.0, 2.0, 2.0, 2.0, 1.0, 2.0, 2.0, 1.0, 3.0, 2.0, 0.0, 1.0, 0.0, 1.0, 0.0, 1.0, 1.0, 2.0, 2.0, 2.0, 2.0, 3.0, 1.0, 0.0, 2.0, 3.0, 0.0, 1.0, 0.0, 2.0, 2.0, 0.0, 0.0, 0.0, 3.0, 2.0, 3.0, 1.0, 3.0, 3.0, 2.0, 2.0, 3.0, 3.0, 0.0, 1.0, 0.0, 1.0, 3.0, 1.0, 1.0, 2.0, 0.0, 0.0, 3.0, 2.0, 0.0, 0.0, 1.0, 0.0, 1.0, 0.0, 1.0, 1.0, 0.0, 1.0, 1.0, 0.0, 2.0, 1.0, 2.0, 2.0, 0.0, 0.0, 0.0, 0.0, 3.0, 2.0, 1.0, 0.0, 1.0, 1.0, 1.0, 1.0, 2.0, 0.0, 0.0, 2.0, 0.0, 1.0, 3.0, 3.0, 3.0, 2.0, 0.0, 1.0, 3.0, 0.0, 2.0, 1.0, 2.0, 0.0, 1.0, 2.0, 2.0, 2.0, 2.0, 2.0, 0.0, 1.0, 2.0, 2.0, 0.0, 1.0, 3.0, 0.0, 1.0, 2.0, 3.0, 0.0, 0.0, 0.0, 1.0, 2.0, 0.0, 0.0, 0.0, 0.0, 1.0, 2.0, 2.0, 1.0, 1.0, 2.0, 2.0, 0.0, 2.0, 3.0, 1.0, 2.0, 0.0, 2.0, 2.0, 2.0, 0.0, 2.0, 2.0, 0.0, 2.0, 3.0, 0.0, 2.0, 0.0, 1.0, 1.0, 2.0, 2.0, 0.0, 2.0, 2.0, 2.0, 1.0, 0.0, 1.0, 2.0, 1.0, 2.0, 3.0, 3.0, 0.0, 0.0, 0.0, 0.0, 0.0, 2.0, 0.0, 0.0, 0.0, 1.0, 1.0, 1.0, 2.0, 0.0, 0.0, 0.0, 0.0, 1.0, 3.0, 3.0, 0.0, 0.0, 0.0, 0.0, 1.0, 3.0, 2.0, 1.0, 2.0, 3.0, 2.0, 2.0, 2.0, 2.0, 1.0, 2.0, 0.0, 0.0, 2.0, 1.0, 0.0], \"type\": \"scatter\", \"x\": [0.9604730360259522, 0.8694597060899953, 0.11378763671854633, 0.3422363649720823, 0.2857866142592876, 0.5984901725653218, 0.8551553381435528, 0.24506145084899666, 0.7151041040330953, 0.18075020616357482, 0.7165214430092209, 0.5958387859583487, 0.6084123868151076, 0.3986160501537195, 0.6769902982547223, 0.7377248452755937, 0.6401465726041332, 0.6998668943855644, 0.533392017890904, 0.7744816023374069, 0.5469289538820485, 0.8909978578044726, 0.7083283738083029, 0.19983277718627185, 0.5441672052884736, 0.31854375493940723, 0.669431649948497, 0.05799631816600267, 0.681499900555228, 0.683667408512006, 0.4167079931464174, 0.8140235285361752, 0.5269827153666781, 0.4685325095872687, 0.8582517014011913, 0.6320231087201169, 0.09614986549351091, 0.6553413544803128, 0.8799455088052774, 0.3477628496853333, 0.5679248736883605, 0.3401014552142058, 0.5482905141142885, 0.6944550593681938, 0.12207536348775172, 0.07126470780064424, 0.29772395090693266, 0.863559920155137, 0.5996155166304818, 0.9290744549504338, 0.5923109308831042, 0.9023582881578731, 0.9653320482805092, 0.6270550340103938, 0.6038329512573315, 0.9731163962744768, 0.8421098252548741, 0.2644440251595325, 0.6987828812278726, 0.15064733572818964, 0.7229153097162639, 0.8953570657015522, 0.472406177708546, 0.8000047516412405, 0.4243678407689547, 0.11290993196003642, 0.0794065148723546, 0.8283118216788353, 0.7342265569924669, 0.2691776163792865, 0.24284925796511644, 0.7772814037666114, 0.14346700074912813, 0.3238676034126179, 0.04218711988694724, 0.5105726358719569, 0.4257103031685209, 0.26587190952474055, 0.6677160623435241, 0.6862627794008895, 0.13598123298494522, 0.7524574570867972, 0.4317147816016711, 0.5851553582731166, 0.5920546053092333, 0.27012260364391744, 0.16239081150902668, 0.41193044453028677, 0.3419484511365626, 0.9064930780875858, 0.7084392975810401, 0.696672904879264, 0.2834766443534665, 0.6301526708645375, 0.49934186332387137, 0.4668266686249072, 0.5747438924522819, 0.7828271872764632, 0.4174077261449722, 0.24326385033117218, 0.7712953406050118, 0.20694645280573695, 0.73237070013937, 0.8687137016117046, 0.8277427559035927, 0.9363211989742429, 0.5483325103446816, 0.15363887365945136, 0.5325910619221855, 0.8882597201354009, 0.4515911280510553, 0.6579945765003551, 0.4848045675337377, 0.7122361963230242, 0.26463952390011525, 0.5856570562979275, 0.7280469026785334, 0.6181008705401126, 0.5872578673974477, 0.7097864946940967, 0.7066024322598471, 0.16725005270640925, 0.5853063363873194, 0.6337562459639619, 0.7378454990452386, 0.45691612603673815, 0.43725534858327053, 0.8400112816093427, 0.14980552271633268, 0.5968932934344007, 0.6641011509562247, 0.9287042604215573, 0.09054797852488324, 0.031312416586354364, 0.16753017180617238, 0.8160350353913159, 0.6689945323360164, 0.13386741798925345, 0.31399668128765346, 0.03903439235402931, 0.0499448654013127, 0.5729462314044705, 0.5039036576162029, 0.7336848174881544, 0.683536313725178, 0.5526231204973758, 0.536966976600485, 0.7832799608449256, 0.15295237207981827, 0.5182401451783767, 0.8769324434384465, 0.7494756928893603, 0.7783039296451122, 0.49886693878163546, 0.692844851313581, 0.42369357500314314, 0.6581237589664781, 0.10537439736776211, 0.3507925972933262, 0.7476959297746484, 0.34732025530269794, 0.5047846745037955, 0.9588070401376432, 0.05578132284131573, 0.574094383893463, 0.33706158828978944, 0.5414453793989187, 0.4420914977638586, 0.5762112058288229, 0.6026364914672538, 0.15558833809718162, 0.5755097227814345, 0.49636432233006816, 0.601182223450738, 0.8099603426270117, 0.1676164146531305, 0.7330200634400251, 0.6237025123622494, 0.6147898309174915, 0.5008185698843877, 0.9207778715984127, 0.9423945782563484, 0.15561483903461426, 0.2646261084725376, 0.1441791845815326, 0.44490440619005855, 0.05088770768471157, 0.6204153274576226, 0.11825492366624132, 0.023823479829385572, 0.1849717920039591, 0.7845965366792035, 0.4104610868138763, 0.6749896915646941, 0.720683692677465, 0.17107954807384093, 0.23088546523072784, 0.0686438507679125, 0.24849087003814735, 0.4849809130873696, 0.8231355875403997, 0.9311596868339063, 0.3837521536613831, 0.2888408159617251, 0.4441020716775486, 0.05655217280080032, 0.6556187084519921, 0.9533614648354022, 0.6883747420283147, 0.42582910031501986, 0.758484874002799, 0.9838305943951627, 0.6782118599352407, 0.6374836760998408, 0.5092665276927172, 0.6251051658524847, 0.6021594213989248, 0.6746758364711762, 0.1932733414777707, 0.10315987395270661, 0.758891202649776, 0.7839959615896721, 0.256095734363217], \"y\": [0.20912859069525863, 0.34767441051174464, 0.0844778940394839, 0.30866937515960086, 0.08727170002393744, 0.5904017830859645, 0.45269613153703875, 0.1663177499375117, 0.577762493892151, 0.135518572836278, 0.6688590973707575, 0.7785906089728677, 0.7835428428791957, 0.22566973029708276, 0.6787241140730189, 0.6180949833451724, 0.6801404918068295, 0.18806879362712875, 0.8352329680742862, 0.5604659630899561, 0.5651080083847209, 0.4446027208467939, 0.6938617417106262, 0.147963122665272, 0.6115333436603407, 0.2405106911555196, 0.02500291173562686, 0.08255219586137374, 0.16528557588145443, 0.48769514652416956, 0.8940581686854271, 0.5701610015668144, 0.7228740229226881, 0.7629493897525835, 0.18367372978479687, 0.5424855049896417, 0.127141061336269, 0.6124848277052433, 0.2858355212378211, 0.060924294295544336, 0.3122143701902227, 0.42474592767318, 0.8152836815970669, 0.6597003128265839, 0.14859729137789032, 0.027980917116968432, 0.17801392295631893, 0.3056690378598507, 0.7521748013718598, 0.28244012639452765, 0.5861565423620763, 0.22206975544062454, 0.22628207663119637, 0.7050985667046603, 0.6541112364808461, 0.17582652911398453, 0.5209184941353571, 0.1934894389736022, 0.4860152630404932, 0.10040804235007657, 0.4732698047280635, 0.3767154576522773, 0.39579471346479556, 0.19958223593482247, 0.8698546863060062, 0.1648945163768609, 0.025100059009558855, 0.43814625477376584, 0.6678190011820013, 0.1303068535660304, 0.08024715356812664, 0.31211185126770674, 0.043917949748977794, 0.6410572983847198, 0.04492379347336191, 0.5121091347883466, 0.5474614051893316, 0.06260878114940503, 0.2169178038166321, 0.3981046232461293, 0.3240932685902463, 0.6184882971154451, 0.4595170509680295, 0.792070669150174, 0.7586214672413784, 0.15792665407643888, 0.10016734455517853, 0.09656840337874308, 0.07727944010935628, 0.33621655110815585, 0.5494436127266811, 0.49114700719026116, 0.22413040544653462, 0.32500905728765106, 0.36649395046419814, 0.5499695066936264, 0.2531090822312137, 0.6041453963548157, 0.10541422909838294, 0.05625158579859893, 0.5663174188216314, 0.10158165819208176, 0.44041459361474006, 0.44436816985734184, 0.5188750328767321, 0.31535340217106644, 0.8256812504408261, 0.11635589701829238, 0.6048586322679979, 0.43937453333668863, 0.14374476870191888, 0.6041272808523913, 0.5185760611736578, 0.686385214048661, 0.16232429903455659, 0.5286261942211512, 0.6734221480944438, 0.6754669469286121, 0.7812870642500401, 0.6758821477812833, 0.6858812338774785, 0.17656253959929122, 0.29623948113279197, 0.6908194855122475, 0.6526033968573618, 0.06498575097012133, 0.5576143243341505, 0.5020333966973907, 0.04678976339586109, 0.5185200712790708, 0.6972093671356017, 0.3158810950298985, 0.08080230960167095, 0.03724967953644431, 0.22335457484594384, 0.07847381684973297, 0.6608790127384778, 0.14228699846782855, 0.3196350296913371, 0.02657379187007061, 0.03896650499700285, 0.5600512885555079, 0.847239958305963, 0.5999493995637656, 0.3431184152056706, 0.21681165841282185, 0.7370250911981173, 0.613388427235065, 0.08201652682399539, 0.7395940112341611, 0.45622633276643876, 0.4853765678769591, 0.5536100937425444, 0.14759854071293227, 0.6361889484994975, 0.78510822126766, 0.6903988970149336, 0.2492724519806392, 0.9258542003579121, 0.5915822630885916, 0.2556267892844704, 0.70695997381071, 0.033080740960049676, 0.06015684633380572, 0.7886493174433937, 0.09343960160986181, 0.2743654833149048, 0.5123672377405667, 0.8020009121886377, 0.6463092769230315, 0.12630273591846106, 0.7936241562155611, 0.8625082193450508, 0.7844529406139928, 0.28896356169832643, 0.09732206931703499, 0.3140603813052782, 0.7094452086174883, 0.1867584830293954, 0.8233329129540164, 0.21546650486828897, 0.3128573537289587, 0.1355712745775851, 0.4245084241736399, 0.12590774909480038, 0.2523232407115359, 0.09114323597431405, 0.7333353017972734, 0.0751555697322677, 0.018089197555593177, 0.2738736310641151, 0.28405311365266145, 0.4806702735078354, 0.5100252612804604, 0.5632806754918872, 0.19756987877034604, 0.22836217795961933, 0.08903444639996391, 0.15530606111498513, 0.32463459416415924, 0.35991027079545346, 0.31630956528522425, 0.34856442629330603, 0.21279539535423686, 0.21526155039086703, 0.03697791736525585, 0.575439036251655, 0.26769548381717667, 0.6977995785568889, 0.4578287380908342, 0.5840033060368057, 0.13670862128842898, 0.7250802707676676, 0.7323535039492552, 0.8496906760916848, 0.6335816900849012, 0.5715903591799115, 0.6273439279331702, 0.26577974070232174, 0.19840677742181334, 0.592382330350176, 0.21288014484317008, 0.24495534827340584]}],                        {\"font\": {\"color\": \"#7f7f7f\", \"size\": 18}, \"template\": {\"data\": {\"bar\": [{\"error_x\": {\"color\": \"#2a3f5f\"}, \"error_y\": {\"color\": \"#2a3f5f\"}, \"marker\": {\"line\": {\"color\": \"#E5ECF6\", \"width\": 0.5}}, \"type\": \"bar\"}], \"barpolar\": [{\"marker\": {\"line\": {\"color\": \"#E5ECF6\", \"width\": 0.5}}, \"type\": \"barpolar\"}], \"carpet\": [{\"aaxis\": {\"endlinecolor\": \"#2a3f5f\", \"gridcolor\": \"white\", \"linecolor\": \"white\", \"minorgridcolor\": \"white\", \"startlinecolor\": \"#2a3f5f\"}, \"baxis\": {\"endlinecolor\": \"#2a3f5f\", \"gridcolor\": \"white\", \"linecolor\": \"white\", \"minorgridcolor\": \"white\", \"startlinecolor\": \"#2a3f5f\"}, \"type\": \"carpet\"}], \"choropleth\": [{\"colorbar\": {\"outlinewidth\": 0, \"ticks\": \"\"}, \"type\": \"choropleth\"}], \"contour\": [{\"colorbar\": {\"outlinewidth\": 0, \"ticks\": \"\"}, \"colorscale\": [[0.0, \"#0d0887\"], [0.1111111111111111, \"#46039f\"], [0.2222222222222222, \"#7201a8\"], [0.3333333333333333, \"#9c179e\"], [0.4444444444444444, \"#bd3786\"], [0.5555555555555556, \"#d8576b\"], [0.6666666666666666, \"#ed7953\"], [0.7777777777777778, \"#fb9f3a\"], [0.8888888888888888, \"#fdca26\"], [1.0, \"#f0f921\"]], \"type\": \"contour\"}], \"contourcarpet\": [{\"colorbar\": {\"outlinewidth\": 0, \"ticks\": \"\"}, \"type\": \"contourcarpet\"}], \"heatmap\": [{\"colorbar\": {\"outlinewidth\": 0, \"ticks\": \"\"}, \"colorscale\": [[0.0, \"#0d0887\"], [0.1111111111111111, \"#46039f\"], [0.2222222222222222, \"#7201a8\"], [0.3333333333333333, \"#9c179e\"], [0.4444444444444444, \"#bd3786\"], [0.5555555555555556, \"#d8576b\"], [0.6666666666666666, \"#ed7953\"], [0.7777777777777778, \"#fb9f3a\"], [0.8888888888888888, \"#fdca26\"], [1.0, \"#f0f921\"]], \"type\": \"heatmap\"}], \"heatmapgl\": [{\"colorbar\": {\"outlinewidth\": 0, \"ticks\": \"\"}, \"colorscale\": [[0.0, \"#0d0887\"], [0.1111111111111111, \"#46039f\"], [0.2222222222222222, \"#7201a8\"], [0.3333333333333333, \"#9c179e\"], [0.4444444444444444, \"#bd3786\"], [0.5555555555555556, \"#d8576b\"], [0.6666666666666666, \"#ed7953\"], [0.7777777777777778, \"#fb9f3a\"], [0.8888888888888888, \"#fdca26\"], [1.0, \"#f0f921\"]], \"type\": \"heatmapgl\"}], \"histogram\": [{\"marker\": {\"colorbar\": {\"outlinewidth\": 0, \"ticks\": \"\"}}, \"type\": \"histogram\"}], \"histogram2d\": [{\"colorbar\": {\"outlinewidth\": 0, \"ticks\": \"\"}, \"colorscale\": [[0.0, \"#0d0887\"], [0.1111111111111111, \"#46039f\"], [0.2222222222222222, \"#7201a8\"], [0.3333333333333333, \"#9c179e\"], [0.4444444444444444, \"#bd3786\"], [0.5555555555555556, \"#d8576b\"], [0.6666666666666666, \"#ed7953\"], [0.7777777777777778, \"#fb9f3a\"], [0.8888888888888888, \"#fdca26\"], [1.0, \"#f0f921\"]], \"type\": \"histogram2d\"}], \"histogram2dcontour\": [{\"colorbar\": {\"outlinewidth\": 0, \"ticks\": \"\"}, \"colorscale\": [[0.0, \"#0d0887\"], [0.1111111111111111, \"#46039f\"], [0.2222222222222222, \"#7201a8\"], [0.3333333333333333, \"#9c179e\"], [0.4444444444444444, \"#bd3786\"], [0.5555555555555556, \"#d8576b\"], [0.6666666666666666, \"#ed7953\"], [0.7777777777777778, \"#fb9f3a\"], [0.8888888888888888, \"#fdca26\"], [1.0, \"#f0f921\"]], \"type\": \"histogram2dcontour\"}], \"mesh3d\": [{\"colorbar\": {\"outlinewidth\": 0, \"ticks\": \"\"}, \"type\": \"mesh3d\"}], \"parcoords\": [{\"line\": {\"colorbar\": {\"outlinewidth\": 0, \"ticks\": \"\"}}, \"type\": \"parcoords\"}], \"pie\": [{\"automargin\": true, \"type\": \"pie\"}], \"scatter\": [{\"marker\": {\"colorbar\": {\"outlinewidth\": 0, \"ticks\": \"\"}}, \"type\": \"scatter\"}], \"scatter3d\": [{\"line\": {\"colorbar\": {\"outlinewidth\": 0, \"ticks\": \"\"}}, \"marker\": {\"colorbar\": {\"outlinewidth\": 0, \"ticks\": \"\"}}, \"type\": \"scatter3d\"}], \"scattercarpet\": [{\"marker\": {\"colorbar\": {\"outlinewidth\": 0, \"ticks\": \"\"}}, \"type\": \"scattercarpet\"}], \"scattergeo\": [{\"marker\": {\"colorbar\": {\"outlinewidth\": 0, \"ticks\": \"\"}}, \"type\": \"scattergeo\"}], \"scattergl\": [{\"marker\": {\"colorbar\": {\"outlinewidth\": 0, \"ticks\": \"\"}}, \"type\": \"scattergl\"}], \"scattermapbox\": [{\"marker\": {\"colorbar\": {\"outlinewidth\": 0, \"ticks\": \"\"}}, \"type\": \"scattermapbox\"}], \"scatterpolar\": [{\"marker\": {\"colorbar\": {\"outlinewidth\": 0, \"ticks\": \"\"}}, \"type\": \"scatterpolar\"}], \"scatterpolargl\": [{\"marker\": {\"colorbar\": {\"outlinewidth\": 0, \"ticks\": \"\"}}, \"type\": \"scatterpolargl\"}], \"scatterternary\": [{\"marker\": {\"colorbar\": {\"outlinewidth\": 0, \"ticks\": \"\"}}, \"type\": \"scatterternary\"}], \"surface\": [{\"colorbar\": {\"outlinewidth\": 0, \"ticks\": \"\"}, \"colorscale\": [[0.0, \"#0d0887\"], [0.1111111111111111, \"#46039f\"], [0.2222222222222222, \"#7201a8\"], [0.3333333333333333, \"#9c179e\"], [0.4444444444444444, \"#bd3786\"], [0.5555555555555556, \"#d8576b\"], [0.6666666666666666, \"#ed7953\"], [0.7777777777777778, \"#fb9f3a\"], [0.8888888888888888, \"#fdca26\"], [1.0, \"#f0f921\"]], \"type\": \"surface\"}], \"table\": [{\"cells\": {\"fill\": {\"color\": \"#EBF0F8\"}, \"line\": {\"color\": \"white\"}}, \"header\": {\"fill\": {\"color\": \"#C8D4E3\"}, \"line\": {\"color\": \"white\"}}, \"type\": \"table\"}]}, \"layout\": {\"annotationdefaults\": {\"arrowcolor\": \"#2a3f5f\", \"arrowhead\": 0, \"arrowwidth\": 1}, \"autotypenumbers\": \"strict\", \"coloraxis\": {\"colorbar\": {\"outlinewidth\": 0, \"ticks\": \"\"}}, \"colorscale\": {\"diverging\": [[0, \"#8e0152\"], [0.1, \"#c51b7d\"], [0.2, \"#de77ae\"], [0.3, \"#f1b6da\"], [0.4, \"#fde0ef\"], [0.5, \"#f7f7f7\"], [0.6, \"#e6f5d0\"], [0.7, \"#b8e186\"], [0.8, \"#7fbc41\"], [0.9, \"#4d9221\"], [1, \"#276419\"]], \"sequential\": [[0.0, \"#0d0887\"], [0.1111111111111111, \"#46039f\"], [0.2222222222222222, \"#7201a8\"], [0.3333333333333333, \"#9c179e\"], [0.4444444444444444, \"#bd3786\"], [0.5555555555555556, \"#d8576b\"], [0.6666666666666666, \"#ed7953\"], [0.7777777777777778, \"#fb9f3a\"], [0.8888888888888888, \"#fdca26\"], [1.0, \"#f0f921\"]], \"sequentialminus\": [[0.0, \"#0d0887\"], [0.1111111111111111, \"#46039f\"], [0.2222222222222222, \"#7201a8\"], [0.3333333333333333, \"#9c179e\"], [0.4444444444444444, \"#bd3786\"], [0.5555555555555556, \"#d8576b\"], [0.6666666666666666, \"#ed7953\"], [0.7777777777777778, \"#fb9f3a\"], [0.8888888888888888, \"#fdca26\"], [1.0, \"#f0f921\"]]}, \"colorway\": [\"#636efa\", \"#EF553B\", \"#00cc96\", \"#ab63fa\", \"#FFA15A\", \"#19d3f3\", \"#FF6692\", \"#B6E880\", \"#FF97FF\", \"#FECB52\"], \"font\": {\"color\": \"#2a3f5f\"}, \"geo\": {\"bgcolor\": \"white\", \"lakecolor\": \"white\", \"landcolor\": \"#E5ECF6\", \"showlakes\": true, \"showland\": true, \"subunitcolor\": \"white\"}, \"hoverlabel\": {\"align\": \"left\"}, \"hovermode\": \"closest\", \"mapbox\": {\"style\": \"light\"}, \"paper_bgcolor\": \"white\", \"plot_bgcolor\": \"#E5ECF6\", \"polar\": {\"angularaxis\": {\"gridcolor\": \"white\", \"linecolor\": \"white\", \"ticks\": \"\"}, \"bgcolor\": \"#E5ECF6\", \"radialaxis\": {\"gridcolor\": \"white\", \"linecolor\": \"white\", \"ticks\": \"\"}}, \"scene\": {\"xaxis\": {\"backgroundcolor\": \"#E5ECF6\", \"gridcolor\": \"white\", \"gridwidth\": 2, \"linecolor\": \"white\", \"showbackground\": true, \"ticks\": \"\", \"zerolinecolor\": \"white\"}, \"yaxis\": {\"backgroundcolor\": \"#E5ECF6\", \"gridcolor\": \"white\", \"gridwidth\": 2, \"linecolor\": \"white\", \"showbackground\": true, \"ticks\": \"\", \"zerolinecolor\": \"white\"}, \"zaxis\": {\"backgroundcolor\": \"#E5ECF6\", \"gridcolor\": \"white\", \"gridwidth\": 2, \"linecolor\": \"white\", \"showbackground\": true, \"ticks\": \"\", \"zerolinecolor\": \"white\"}}, \"shapedefaults\": {\"line\": {\"color\": \"#2a3f5f\"}}, \"ternary\": {\"aaxis\": {\"gridcolor\": \"white\", \"linecolor\": \"white\", \"ticks\": \"\"}, \"baxis\": {\"gridcolor\": \"white\", \"linecolor\": \"white\", \"ticks\": \"\"}, \"bgcolor\": \"#E5ECF6\", \"caxis\": {\"gridcolor\": \"white\", \"linecolor\": \"white\", \"ticks\": \"\"}}, \"title\": {\"x\": 0.05}, \"xaxis\": {\"automargin\": true, \"gridcolor\": \"white\", \"linecolor\": \"white\", \"ticks\": \"\", \"title\": {\"standoff\": 15}, \"zerolinecolor\": \"white\", \"zerolinewidth\": 2}, \"yaxis\": {\"automargin\": true, \"gridcolor\": \"white\", \"linecolor\": \"white\", \"ticks\": \"\", \"title\": {\"standoff\": 15}, \"zerolinecolor\": \"white\", \"zerolinewidth\": 2}}}, \"xaxis\": {\"title\": {\"text\": \"Popula\\u00e7\\u00e3o por Supermercados\"}}, \"yaxis\": {\"title\": {\"text\": \"Renda per Capita\"}}},                        {\"responsive\": true}                    ).then(function(){\n",
       "                            \n",
       "var gd = document.getElementById('63d23231-9387-4598-9f78-a3101cb872d4');\n",
       "var x = new MutationObserver(function (mutations, observer) {{\n",
       "        var display = window.getComputedStyle(gd).display;\n",
       "        if (!display || display === 'none') {{\n",
       "            console.log([gd, 'removed!']);\n",
       "            Plotly.purge(gd);\n",
       "            observer.disconnect();\n",
       "        }}\n",
       "}});\n",
       "\n",
       "// Listen for the removal of the full notebook cells\n",
       "var notebookContainer = gd.closest('#notebook-container');\n",
       "if (notebookContainer) {{\n",
       "    x.observe(notebookContainer, {childList: true});\n",
       "}}\n",
       "\n",
       "// Listen for the clearing of the current output cell\n",
       "var outputEl = gd.closest('.output');\n",
       "if (outputEl) {{\n",
       "    x.observe(outputEl, {childList: true});\n",
       "}}\n",
       "\n",
       "                        })                };                });            </script>        </div>"
      ]
     },
     "metadata": {},
     "output_type": "display_data"
    }
   ],
   "source": [
    "import plotly.graph_objects as go\n",
    "norm_df = pd.DataFrame(norm_df, columns = df_modelo.drop(columns = ['Código', 'Município']).columns)\n",
    "fig = go.Figure()\n",
    "fig.add_trace(go.Scatter(x = norm_df['Populacao por Supermercados'], \n",
    "                         y = norm_df['Renda per Capita, 2000'],\n",
    "                         mode = 'markers',\n",
    "                         marker = dict(color = labels_kmeans.astype(np.float)),\n",
    "                         text = labels_kmeans))\n",
    "fig.update_layout(\n",
    "    xaxis_title=\"População por Supermercados\",\n",
    "    yaxis_title=\"Renda per Capita\",\n",
    "    font=dict(\n",
    "        \n",
    "        size=18,\n",
    "        color=\"#7f7f7f\"\n",
    "    )\n",
    ")\n",
    "\n",
    "fig.show()"
   ]
  },
  {
   "cell_type": "code",
   "execution_count": 13,
   "id": "ce7380d7",
   "metadata": {},
   "outputs": [
    {
     "name": "stdout",
     "output_type": "stream",
     "text": [
      "<class 'pandas.core.frame.DataFrame'>\n",
      "RangeIndex: 223 entries, 0 to 222\n",
      "Data columns (total 7 columns):\n",
      " #   Column                                            Non-Null Count  Dtype  \n",
      "---  ------                                            --------------  -----  \n",
      " 0   Densidade demográfica, 2000                       223 non-null    float64\n",
      " 1   Renda per Capita, 2000                            223 non-null    float64\n",
      " 2   Intensidade da pobreza, 2000                      223 non-null    float64\n",
      " 3   Índice de Desenvolvimento Humano Municipal, 2000  223 non-null    float64\n",
      " 4   Variacao_Populacao_1991_a_2000                    223 non-null    float64\n",
      " 5   Percentual_Populacao_Urbana                       223 non-null    float64\n",
      " 6   Populacao por Supermercados                       223 non-null    float64\n",
      "dtypes: float64(7)\n",
      "memory usage: 12.3 KB\n"
     ]
    }
   ],
   "source": [
    "norm_df.info()"
   ]
  },
  {
   "cell_type": "code",
   "execution_count": 23,
   "id": "985115fa",
   "metadata": {},
   "outputs": [
    {
     "name": "stderr",
     "output_type": "stream",
     "text": [
      "<ipython-input-23-bb1d1e0ec6d8>:5: DeprecationWarning:\n",
      "\n",
      "`np.float` is a deprecated alias for the builtin `float`. To silence this warning, use `float` by itself. Doing this will not modify any behavior and is safe. If you specifically wanted the numpy scalar type, use `np.float64` here.\n",
      "Deprecated in NumPy 1.20; for more details and guidance: https://numpy.org/devdocs/release/1.20.0-notes.html#deprecations\n",
      "\n"
     ]
    },
    {
     "data": {
      "application/vnd.plotly.v1+json": {
       "config": {
        "plotlyServerURL": "https://plot.ly"
       },
       "data": [
        {
         "marker": {
          "color": [
           3,
           3,
           0,
           0,
           0,
           1,
           3,
           0,
           2,
           0,
           2,
           2,
           2,
           0,
           2,
           2,
           2,
           1,
           2,
           2,
           1,
           3,
           2,
           0,
           1,
           0,
           1,
           0,
           1,
           1,
           2,
           2,
           2,
           2,
           3,
           1,
           0,
           2,
           3,
           0,
           1,
           0,
           2,
           2,
           0,
           0,
           0,
           3,
           2,
           3,
           1,
           3,
           3,
           2,
           2,
           3,
           3,
           0,
           1,
           0,
           1,
           3,
           1,
           1,
           2,
           0,
           0,
           3,
           2,
           0,
           0,
           1,
           0,
           1,
           0,
           1,
           1,
           0,
           1,
           1,
           0,
           2,
           1,
           2,
           2,
           0,
           0,
           0,
           0,
           3,
           2,
           1,
           0,
           1,
           1,
           1,
           1,
           2,
           0,
           0,
           2,
           0,
           1,
           3,
           3,
           3,
           2,
           0,
           1,
           3,
           0,
           2,
           1,
           2,
           0,
           1,
           2,
           2,
           2,
           2,
           2,
           0,
           1,
           2,
           2,
           0,
           1,
           3,
           0,
           1,
           2,
           3,
           0,
           0,
           0,
           1,
           2,
           0,
           0,
           0,
           0,
           1,
           2,
           2,
           1,
           1,
           2,
           2,
           0,
           2,
           3,
           1,
           2,
           0,
           2,
           2,
           2,
           0,
           2,
           2,
           0,
           2,
           3,
           0,
           2,
           0,
           1,
           1,
           2,
           2,
           0,
           2,
           2,
           2,
           1,
           0,
           1,
           2,
           1,
           2,
           3,
           3,
           0,
           0,
           0,
           0,
           0,
           2,
           0,
           0,
           0,
           1,
           1,
           1,
           2,
           0,
           0,
           0,
           0,
           1,
           3,
           3,
           0,
           0,
           0,
           0,
           1,
           3,
           2,
           1,
           2,
           3,
           2,
           2,
           2,
           2,
           1,
           2,
           0,
           0,
           2,
           1,
           0
          ]
         },
         "mode": "markers",
         "text": [
          3,
          3,
          0,
          0,
          0,
          1,
          3,
          0,
          2,
          0,
          2,
          2,
          2,
          0,
          2,
          2,
          2,
          1,
          2,
          2,
          1,
          3,
          2,
          0,
          1,
          0,
          1,
          0,
          1,
          1,
          2,
          2,
          2,
          2,
          3,
          1,
          0,
          2,
          3,
          0,
          1,
          0,
          2,
          2,
          0,
          0,
          0,
          3,
          2,
          3,
          1,
          3,
          3,
          2,
          2,
          3,
          3,
          0,
          1,
          0,
          1,
          3,
          1,
          1,
          2,
          0,
          0,
          3,
          2,
          0,
          0,
          1,
          0,
          1,
          0,
          1,
          1,
          0,
          1,
          1,
          0,
          2,
          1,
          2,
          2,
          0,
          0,
          0,
          0,
          3,
          2,
          1,
          0,
          1,
          1,
          1,
          1,
          2,
          0,
          0,
          2,
          0,
          1,
          3,
          3,
          3,
          2,
          0,
          1,
          3,
          0,
          2,
          1,
          2,
          0,
          1,
          2,
          2,
          2,
          2,
          2,
          0,
          1,
          2,
          2,
          0,
          1,
          3,
          0,
          1,
          2,
          3,
          0,
          0,
          0,
          1,
          2,
          0,
          0,
          0,
          0,
          1,
          2,
          2,
          1,
          1,
          2,
          2,
          0,
          2,
          3,
          1,
          2,
          0,
          2,
          2,
          2,
          0,
          2,
          2,
          0,
          2,
          3,
          0,
          2,
          0,
          1,
          1,
          2,
          2,
          0,
          2,
          2,
          2,
          1,
          0,
          1,
          2,
          1,
          2,
          3,
          3,
          0,
          0,
          0,
          0,
          0,
          2,
          0,
          0,
          0,
          1,
          1,
          1,
          2,
          0,
          0,
          0,
          0,
          1,
          3,
          3,
          0,
          0,
          0,
          0,
          1,
          3,
          2,
          1,
          2,
          3,
          2,
          2,
          2,
          2,
          1,
          2,
          0,
          0,
          2,
          1,
          0
         ],
         "type": "scatter",
         "x": [
          0.9604730360259522,
          0.8694597060899953,
          0.11378763671854633,
          0.3422363649720823,
          0.2857866142592876,
          0.5984901725653218,
          0.8551553381435528,
          0.24506145084899666,
          0.7151041040330953,
          0.18075020616357482,
          0.7165214430092209,
          0.5958387859583487,
          0.6084123868151076,
          0.3986160501537195,
          0.6769902982547223,
          0.7377248452755937,
          0.6401465726041332,
          0.6998668943855644,
          0.533392017890904,
          0.7744816023374069,
          0.5469289538820485,
          0.8909978578044726,
          0.7083283738083029,
          0.19983277718627185,
          0.5441672052884736,
          0.31854375493940723,
          0.669431649948497,
          0.05799631816600267,
          0.681499900555228,
          0.683667408512006,
          0.4167079931464174,
          0.8140235285361752,
          0.5269827153666781,
          0.4685325095872687,
          0.8582517014011913,
          0.6320231087201169,
          0.09614986549351091,
          0.6553413544803128,
          0.8799455088052774,
          0.3477628496853333,
          0.5679248736883605,
          0.3401014552142058,
          0.5482905141142885,
          0.6944550593681938,
          0.12207536348775172,
          0.07126470780064424,
          0.29772395090693266,
          0.863559920155137,
          0.5996155166304818,
          0.9290744549504338,
          0.5923109308831042,
          0.9023582881578731,
          0.9653320482805092,
          0.6270550340103938,
          0.6038329512573315,
          0.9731163962744768,
          0.8421098252548741,
          0.2644440251595325,
          0.6987828812278726,
          0.15064733572818964,
          0.7229153097162639,
          0.8953570657015522,
          0.472406177708546,
          0.8000047516412405,
          0.4243678407689547,
          0.11290993196003642,
          0.0794065148723546,
          0.8283118216788353,
          0.7342265569924669,
          0.2691776163792865,
          0.24284925796511644,
          0.7772814037666114,
          0.14346700074912813,
          0.3238676034126179,
          0.04218711988694724,
          0.5105726358719569,
          0.4257103031685209,
          0.26587190952474055,
          0.6677160623435241,
          0.6862627794008895,
          0.13598123298494522,
          0.7524574570867972,
          0.4317147816016711,
          0.5851553582731166,
          0.5920546053092333,
          0.27012260364391744,
          0.16239081150902668,
          0.41193044453028677,
          0.3419484511365626,
          0.9064930780875858,
          0.7084392975810401,
          0.696672904879264,
          0.2834766443534665,
          0.6301526708645375,
          0.49934186332387137,
          0.4668266686249072,
          0.5747438924522819,
          0.7828271872764632,
          0.4174077261449722,
          0.24326385033117218,
          0.7712953406050118,
          0.20694645280573695,
          0.73237070013937,
          0.8687137016117046,
          0.8277427559035927,
          0.9363211989742429,
          0.5483325103446816,
          0.15363887365945136,
          0.5325910619221855,
          0.8882597201354009,
          0.4515911280510553,
          0.6579945765003551,
          0.4848045675337377,
          0.7122361963230242,
          0.26463952390011525,
          0.5856570562979275,
          0.7280469026785334,
          0.6181008705401126,
          0.5872578673974477,
          0.7097864946940967,
          0.7066024322598471,
          0.16725005270640925,
          0.5853063363873194,
          0.6337562459639619,
          0.7378454990452386,
          0.45691612603673815,
          0.43725534858327053,
          0.8400112816093427,
          0.14980552271633268,
          0.5968932934344007,
          0.6641011509562247,
          0.9287042604215573,
          0.09054797852488324,
          0.031312416586354364,
          0.16753017180617238,
          0.8160350353913159,
          0.6689945323360164,
          0.13386741798925345,
          0.31399668128765346,
          0.03903439235402931,
          0.0499448654013127,
          0.5729462314044705,
          0.5039036576162029,
          0.7336848174881544,
          0.683536313725178,
          0.5526231204973758,
          0.536966976600485,
          0.7832799608449256,
          0.15295237207981827,
          0.5182401451783767,
          0.8769324434384465,
          0.7494756928893603,
          0.7783039296451122,
          0.49886693878163546,
          0.692844851313581,
          0.42369357500314314,
          0.6581237589664781,
          0.10537439736776211,
          0.3507925972933262,
          0.7476959297746484,
          0.34732025530269794,
          0.5047846745037955,
          0.9588070401376432,
          0.05578132284131573,
          0.574094383893463,
          0.33706158828978944,
          0.5414453793989187,
          0.4420914977638586,
          0.5762112058288229,
          0.6026364914672538,
          0.15558833809718162,
          0.5755097227814345,
          0.49636432233006816,
          0.601182223450738,
          0.8099603426270117,
          0.1676164146531305,
          0.7330200634400251,
          0.6237025123622494,
          0.6147898309174915,
          0.5008185698843877,
          0.9207778715984127,
          0.9423945782563484,
          0.15561483903461426,
          0.2646261084725376,
          0.1441791845815326,
          0.44490440619005855,
          0.05088770768471157,
          0.6204153274576226,
          0.11825492366624132,
          0.023823479829385572,
          0.1849717920039591,
          0.7845965366792035,
          0.4104610868138763,
          0.6749896915646941,
          0.720683692677465,
          0.17107954807384093,
          0.23088546523072784,
          0.0686438507679125,
          0.24849087003814735,
          0.4849809130873696,
          0.8231355875403997,
          0.9311596868339063,
          0.3837521536613831,
          0.2888408159617251,
          0.4441020716775486,
          0.05655217280080032,
          0.6556187084519921,
          0.9533614648354022,
          0.6883747420283147,
          0.42582910031501986,
          0.758484874002799,
          0.9838305943951627,
          0.6782118599352407,
          0.6374836760998408,
          0.5092665276927172,
          0.6251051658524847,
          0.6021594213989248,
          0.6746758364711762,
          0.1932733414777707,
          0.10315987395270661,
          0.758891202649776,
          0.7839959615896721,
          0.256095734363217
         ],
         "y": [
          0.15110328953700888,
          0.33739340620664177,
          0.989778017195555,
          0.8870094526541877,
          0.954091272959921,
          0.535980114081239,
          0.2397650555191455,
          0.9546282592605291,
          0.38775199784213404,
          0.9739941199028519,
          0.19221540529008393,
          0.106015836312319,
          0.09006799175633852,
          0.8846197538539773,
          0.2770929441902159,
          0.26413616588231725,
          0.35314752588661347,
          0.6868545033631952,
          0.059134041438863756,
          0.28378521674767954,
          0.6132312733702429,
          0.02133410368746612,
          0.1155214710055919,
          0.9684701101761204,
          0.5718418017556668,
          0.9162895760902158,
          0.7424217854257874,
          0.9948795418281945,
          0.7119918961058223,
          0.5414146171069565,
          0.10479343391724602,
          0.09726102776739266,
          0.44070373674024105,
          0.44221096589779085,
          0.47417625263736674,
          0.5478400704666638,
          0.9870509885229067,
          0.43355268081159914,
          0.3701933535859736,
          0.9354675284736169,
          0.759096993646625,
          0.8382870624717885,
          0.1685469038492074,
          0.26847027293832665,
          0.9811536194017115,
          0.9970511803716967,
          0.937220142702181,
          0.39607572697514987,
          0.2570759673862499,
          0.2273447180716506,
          0.5494741931776409,
          0.35966261559794727,
          0.057223255917312164,
          0.32592755513832056,
          0.4485957812535484,
          0.05987048153783426,
          0.12030759420273163,
          0.9441786478369716,
          0.5191240058346619,
          0.9833611332478365,
          0.5002680497635261,
          0.20937354206916214,
          0.7866413866337939,
          0.5645119348554561,
          0.238270532711281,
          0.9797578731126831,
          0.9965169802673284,
          0.34555302232188095,
          0.08714358375536878,
          0.9538203533556652,
          0.9665805794647327,
          0.5416231555889669,
          0.988630288984063,
          0.6946874233729086,
          0.9980786720818,
          0.6871767016059944,
          0.7184289129834415,
          0.9617995549085594,
          0.7106369610033133,
          0.5963385704824936,
          0.935872712250174,
          0.20964348773432512,
          0.7730535647284325,
          0.13286591622456786,
          0.26124787947243117,
          0.9494750558948573,
          0.9815182298173829,
          0.90590181880499,
          0.9362492767577136,
          0.23722011390018516,
          0.42621642165841656,
          0.5206977351305738,
          0.9318918485856698,
          0.7011416906437833,
          0.7805225550628558,
          0.6902330475480475,
          0.7767465270607293,
          0.12993376365690773,
          0.902213104726579,
          0.9682057571189343,
          0.2835957346063922,
          0.972860129851309,
          0.516378178697887,
          0.21534913722501692,
          0.2093280090796658,
          0.10875808157702611,
          0.04720280368545817,
          0.981145575203994,
          0.588535165744573,
          0.06798201457849994,
          0.8794119490974575,
          0.44639733985731056,
          0.7029574034565458,
          0.12072358810216427,
          0.9502941626325992,
          0.6113744102541434,
          0.08467277860209463,
          0.39742393486069466,
          0.13173404179305273,
          0.18576696686613375,
          0.11652600094650685,
          0.9695060966229855,
          0.7520110104993016,
          0.32250528572885034,
          0.03841082615789128,
          0.8868431551933635,
          0.7040724090051933,
          0.20035091872378177,
          0.9875701280026645,
          0.6088860695603086,
          0.24203332143565684,
          0.17659369642520079,
          0.9925572009348583,
          0.9987983968228287,
          0.96015582268669,
          0.5717004661975199,
          0.33400656679128177,
          0.9803124867069805,
          0.8934573742081934,
          0.9988735402557872,
          0.99797964738002,
          0.5922020696891023,
          0.13061763915232275,
          0.30964116246806866,
          0.6365922165950931,
          0.80398619995447,
          0.40298820467827545,
          0.0775679905041892,
          0.9846749386901837,
          0.41993170973897914,
          0.10406395007692461,
          0.4474741594184853,
          0.2864679199571373,
          0.8537621917748868,
          0.3339548892796845,
          0.44702644612540104,
          0.28681646089301177,
          0.962565004464597,
          0.029728289254963926,
          0.2957003795096637,
          0.9015795603230065,
          0.4914530504610111,
          0.2819997590037021,
          0.9966054718777405,
          0.20458053165585915,
          0.9365097685542892,
          0.7940048738301047,
          0.7348954360227488,
          0.07703673247964071,
          0.4649090224261269,
          0.9796638423817077,
          0.16427374405441933,
          0.03528108133632385,
          0.09568124407312317,
          0.5073107598538781,
          0.9809478350855371,
          0.6020351473424472,
          0.31999522368961564,
          0.7651505535218679,
          0.25587096234843515,
          0.30944984852598084,
          0.024151961545909605,
          0.9783695701962641,
          0.8653427527664463,
          0.9813084240195014,
          0.8588824525555396,
          0.9945213313393886,
          0.27115323926180823,
          0.9900604816584943,
          0.9995461109841194,
          0.9434862682011357,
          0.5394356915650897,
          0.7739391290792358,
          0.5305122127569403,
          0.39664340026284706,
          0.9649990700897165,
          0.9449500664945498,
          0.9936322446652586,
          0.9557910532312456,
          0.8097131131691329,
          0.4369015500975166,
          0.15213411169289998,
          0.8544191137576532,
          0.9326627852345603,
          0.8690430294400052,
          0.9976994275787604,
          0.4858275197029943,
          0.12497668890940913,
          0.1317604911710273,
          0.7765318897292381,
          0.2837101792235757,
          0.09803334943117639,
          0.10032329420711485,
          0.22855478970983897,
          0.06501838208064044,
          0.4524754790937768,
          0.5493392291406158,
          0.37486931842069526,
          0.9441229410031775,
          0.9745906840257627,
          0.23591214327269086,
          0.5776034868202032,
          0.934597135440711
         ]
        }
       ],
       "layout": {
        "font": {
         "color": "#7f7f7f",
         "size": 18
        },
        "template": {
         "data": {
          "bar": [
           {
            "error_x": {
             "color": "#2a3f5f"
            },
            "error_y": {
             "color": "#2a3f5f"
            },
            "marker": {
             "line": {
              "color": "#E5ECF6",
              "width": 0.5
             }
            },
            "type": "bar"
           }
          ],
          "barpolar": [
           {
            "marker": {
             "line": {
              "color": "#E5ECF6",
              "width": 0.5
             }
            },
            "type": "barpolar"
           }
          ],
          "carpet": [
           {
            "aaxis": {
             "endlinecolor": "#2a3f5f",
             "gridcolor": "white",
             "linecolor": "white",
             "minorgridcolor": "white",
             "startlinecolor": "#2a3f5f"
            },
            "baxis": {
             "endlinecolor": "#2a3f5f",
             "gridcolor": "white",
             "linecolor": "white",
             "minorgridcolor": "white",
             "startlinecolor": "#2a3f5f"
            },
            "type": "carpet"
           }
          ],
          "choropleth": [
           {
            "colorbar": {
             "outlinewidth": 0,
             "ticks": ""
            },
            "type": "choropleth"
           }
          ],
          "contour": [
           {
            "colorbar": {
             "outlinewidth": 0,
             "ticks": ""
            },
            "colorscale": [
             [
              0,
              "#0d0887"
             ],
             [
              0.1111111111111111,
              "#46039f"
             ],
             [
              0.2222222222222222,
              "#7201a8"
             ],
             [
              0.3333333333333333,
              "#9c179e"
             ],
             [
              0.4444444444444444,
              "#bd3786"
             ],
             [
              0.5555555555555556,
              "#d8576b"
             ],
             [
              0.6666666666666666,
              "#ed7953"
             ],
             [
              0.7777777777777778,
              "#fb9f3a"
             ],
             [
              0.8888888888888888,
              "#fdca26"
             ],
             [
              1,
              "#f0f921"
             ]
            ],
            "type": "contour"
           }
          ],
          "contourcarpet": [
           {
            "colorbar": {
             "outlinewidth": 0,
             "ticks": ""
            },
            "type": "contourcarpet"
           }
          ],
          "heatmap": [
           {
            "colorbar": {
             "outlinewidth": 0,
             "ticks": ""
            },
            "colorscale": [
             [
              0,
              "#0d0887"
             ],
             [
              0.1111111111111111,
              "#46039f"
             ],
             [
              0.2222222222222222,
              "#7201a8"
             ],
             [
              0.3333333333333333,
              "#9c179e"
             ],
             [
              0.4444444444444444,
              "#bd3786"
             ],
             [
              0.5555555555555556,
              "#d8576b"
             ],
             [
              0.6666666666666666,
              "#ed7953"
             ],
             [
              0.7777777777777778,
              "#fb9f3a"
             ],
             [
              0.8888888888888888,
              "#fdca26"
             ],
             [
              1,
              "#f0f921"
             ]
            ],
            "type": "heatmap"
           }
          ],
          "heatmapgl": [
           {
            "colorbar": {
             "outlinewidth": 0,
             "ticks": ""
            },
            "colorscale": [
             [
              0,
              "#0d0887"
             ],
             [
              0.1111111111111111,
              "#46039f"
             ],
             [
              0.2222222222222222,
              "#7201a8"
             ],
             [
              0.3333333333333333,
              "#9c179e"
             ],
             [
              0.4444444444444444,
              "#bd3786"
             ],
             [
              0.5555555555555556,
              "#d8576b"
             ],
             [
              0.6666666666666666,
              "#ed7953"
             ],
             [
              0.7777777777777778,
              "#fb9f3a"
             ],
             [
              0.8888888888888888,
              "#fdca26"
             ],
             [
              1,
              "#f0f921"
             ]
            ],
            "type": "heatmapgl"
           }
          ],
          "histogram": [
           {
            "marker": {
             "colorbar": {
              "outlinewidth": 0,
              "ticks": ""
             }
            },
            "type": "histogram"
           }
          ],
          "histogram2d": [
           {
            "colorbar": {
             "outlinewidth": 0,
             "ticks": ""
            },
            "colorscale": [
             [
              0,
              "#0d0887"
             ],
             [
              0.1111111111111111,
              "#46039f"
             ],
             [
              0.2222222222222222,
              "#7201a8"
             ],
             [
              0.3333333333333333,
              "#9c179e"
             ],
             [
              0.4444444444444444,
              "#bd3786"
             ],
             [
              0.5555555555555556,
              "#d8576b"
             ],
             [
              0.6666666666666666,
              "#ed7953"
             ],
             [
              0.7777777777777778,
              "#fb9f3a"
             ],
             [
              0.8888888888888888,
              "#fdca26"
             ],
             [
              1,
              "#f0f921"
             ]
            ],
            "type": "histogram2d"
           }
          ],
          "histogram2dcontour": [
           {
            "colorbar": {
             "outlinewidth": 0,
             "ticks": ""
            },
            "colorscale": [
             [
              0,
              "#0d0887"
             ],
             [
              0.1111111111111111,
              "#46039f"
             ],
             [
              0.2222222222222222,
              "#7201a8"
             ],
             [
              0.3333333333333333,
              "#9c179e"
             ],
             [
              0.4444444444444444,
              "#bd3786"
             ],
             [
              0.5555555555555556,
              "#d8576b"
             ],
             [
              0.6666666666666666,
              "#ed7953"
             ],
             [
              0.7777777777777778,
              "#fb9f3a"
             ],
             [
              0.8888888888888888,
              "#fdca26"
             ],
             [
              1,
              "#f0f921"
             ]
            ],
            "type": "histogram2dcontour"
           }
          ],
          "mesh3d": [
           {
            "colorbar": {
             "outlinewidth": 0,
             "ticks": ""
            },
            "type": "mesh3d"
           }
          ],
          "parcoords": [
           {
            "line": {
             "colorbar": {
              "outlinewidth": 0,
              "ticks": ""
             }
            },
            "type": "parcoords"
           }
          ],
          "pie": [
           {
            "automargin": true,
            "type": "pie"
           }
          ],
          "scatter": [
           {
            "marker": {
             "colorbar": {
              "outlinewidth": 0,
              "ticks": ""
             }
            },
            "type": "scatter"
           }
          ],
          "scatter3d": [
           {
            "line": {
             "colorbar": {
              "outlinewidth": 0,
              "ticks": ""
             }
            },
            "marker": {
             "colorbar": {
              "outlinewidth": 0,
              "ticks": ""
             }
            },
            "type": "scatter3d"
           }
          ],
          "scattercarpet": [
           {
            "marker": {
             "colorbar": {
              "outlinewidth": 0,
              "ticks": ""
             }
            },
            "type": "scattercarpet"
           }
          ],
          "scattergeo": [
           {
            "marker": {
             "colorbar": {
              "outlinewidth": 0,
              "ticks": ""
             }
            },
            "type": "scattergeo"
           }
          ],
          "scattergl": [
           {
            "marker": {
             "colorbar": {
              "outlinewidth": 0,
              "ticks": ""
             }
            },
            "type": "scattergl"
           }
          ],
          "scattermapbox": [
           {
            "marker": {
             "colorbar": {
              "outlinewidth": 0,
              "ticks": ""
             }
            },
            "type": "scattermapbox"
           }
          ],
          "scatterpolar": [
           {
            "marker": {
             "colorbar": {
              "outlinewidth": 0,
              "ticks": ""
             }
            },
            "type": "scatterpolar"
           }
          ],
          "scatterpolargl": [
           {
            "marker": {
             "colorbar": {
              "outlinewidth": 0,
              "ticks": ""
             }
            },
            "type": "scatterpolargl"
           }
          ],
          "scatterternary": [
           {
            "marker": {
             "colorbar": {
              "outlinewidth": 0,
              "ticks": ""
             }
            },
            "type": "scatterternary"
           }
          ],
          "surface": [
           {
            "colorbar": {
             "outlinewidth": 0,
             "ticks": ""
            },
            "colorscale": [
             [
              0,
              "#0d0887"
             ],
             [
              0.1111111111111111,
              "#46039f"
             ],
             [
              0.2222222222222222,
              "#7201a8"
             ],
             [
              0.3333333333333333,
              "#9c179e"
             ],
             [
              0.4444444444444444,
              "#bd3786"
             ],
             [
              0.5555555555555556,
              "#d8576b"
             ],
             [
              0.6666666666666666,
              "#ed7953"
             ],
             [
              0.7777777777777778,
              "#fb9f3a"
             ],
             [
              0.8888888888888888,
              "#fdca26"
             ],
             [
              1,
              "#f0f921"
             ]
            ],
            "type": "surface"
           }
          ],
          "table": [
           {
            "cells": {
             "fill": {
              "color": "#EBF0F8"
             },
             "line": {
              "color": "white"
             }
            },
            "header": {
             "fill": {
              "color": "#C8D4E3"
             },
             "line": {
              "color": "white"
             }
            },
            "type": "table"
           }
          ]
         },
         "layout": {
          "annotationdefaults": {
           "arrowcolor": "#2a3f5f",
           "arrowhead": 0,
           "arrowwidth": 1
          },
          "autotypenumbers": "strict",
          "coloraxis": {
           "colorbar": {
            "outlinewidth": 0,
            "ticks": ""
           }
          },
          "colorscale": {
           "diverging": [
            [
             0,
             "#8e0152"
            ],
            [
             0.1,
             "#c51b7d"
            ],
            [
             0.2,
             "#de77ae"
            ],
            [
             0.3,
             "#f1b6da"
            ],
            [
             0.4,
             "#fde0ef"
            ],
            [
             0.5,
             "#f7f7f7"
            ],
            [
             0.6,
             "#e6f5d0"
            ],
            [
             0.7,
             "#b8e186"
            ],
            [
             0.8,
             "#7fbc41"
            ],
            [
             0.9,
             "#4d9221"
            ],
            [
             1,
             "#276419"
            ]
           ],
           "sequential": [
            [
             0,
             "#0d0887"
            ],
            [
             0.1111111111111111,
             "#46039f"
            ],
            [
             0.2222222222222222,
             "#7201a8"
            ],
            [
             0.3333333333333333,
             "#9c179e"
            ],
            [
             0.4444444444444444,
             "#bd3786"
            ],
            [
             0.5555555555555556,
             "#d8576b"
            ],
            [
             0.6666666666666666,
             "#ed7953"
            ],
            [
             0.7777777777777778,
             "#fb9f3a"
            ],
            [
             0.8888888888888888,
             "#fdca26"
            ],
            [
             1,
             "#f0f921"
            ]
           ],
           "sequentialminus": [
            [
             0,
             "#0d0887"
            ],
            [
             0.1111111111111111,
             "#46039f"
            ],
            [
             0.2222222222222222,
             "#7201a8"
            ],
            [
             0.3333333333333333,
             "#9c179e"
            ],
            [
             0.4444444444444444,
             "#bd3786"
            ],
            [
             0.5555555555555556,
             "#d8576b"
            ],
            [
             0.6666666666666666,
             "#ed7953"
            ],
            [
             0.7777777777777778,
             "#fb9f3a"
            ],
            [
             0.8888888888888888,
             "#fdca26"
            ],
            [
             1,
             "#f0f921"
            ]
           ]
          },
          "colorway": [
           "#636efa",
           "#EF553B",
           "#00cc96",
           "#ab63fa",
           "#FFA15A",
           "#19d3f3",
           "#FF6692",
           "#B6E880",
           "#FF97FF",
           "#FECB52"
          ],
          "font": {
           "color": "#2a3f5f"
          },
          "geo": {
           "bgcolor": "white",
           "lakecolor": "white",
           "landcolor": "#E5ECF6",
           "showlakes": true,
           "showland": true,
           "subunitcolor": "white"
          },
          "hoverlabel": {
           "align": "left"
          },
          "hovermode": "closest",
          "mapbox": {
           "style": "light"
          },
          "paper_bgcolor": "white",
          "plot_bgcolor": "#E5ECF6",
          "polar": {
           "angularaxis": {
            "gridcolor": "white",
            "linecolor": "white",
            "ticks": ""
           },
           "bgcolor": "#E5ECF6",
           "radialaxis": {
            "gridcolor": "white",
            "linecolor": "white",
            "ticks": ""
           }
          },
          "scene": {
           "xaxis": {
            "backgroundcolor": "#E5ECF6",
            "gridcolor": "white",
            "gridwidth": 2,
            "linecolor": "white",
            "showbackground": true,
            "ticks": "",
            "zerolinecolor": "white"
           },
           "yaxis": {
            "backgroundcolor": "#E5ECF6",
            "gridcolor": "white",
            "gridwidth": 2,
            "linecolor": "white",
            "showbackground": true,
            "ticks": "",
            "zerolinecolor": "white"
           },
           "zaxis": {
            "backgroundcolor": "#E5ECF6",
            "gridcolor": "white",
            "gridwidth": 2,
            "linecolor": "white",
            "showbackground": true,
            "ticks": "",
            "zerolinecolor": "white"
           }
          },
          "shapedefaults": {
           "line": {
            "color": "#2a3f5f"
           }
          },
          "ternary": {
           "aaxis": {
            "gridcolor": "white",
            "linecolor": "white",
            "ticks": ""
           },
           "baxis": {
            "gridcolor": "white",
            "linecolor": "white",
            "ticks": ""
           },
           "bgcolor": "#E5ECF6",
           "caxis": {
            "gridcolor": "white",
            "linecolor": "white",
            "ticks": ""
           }
          },
          "title": {
           "x": 0.05
          },
          "xaxis": {
           "automargin": true,
           "gridcolor": "white",
           "linecolor": "white",
           "ticks": "",
           "title": {
            "standoff": 15
           },
           "zerolinecolor": "white",
           "zerolinewidth": 2
          },
          "yaxis": {
           "automargin": true,
           "gridcolor": "white",
           "linecolor": "white",
           "ticks": "",
           "title": {
            "standoff": 15
           },
           "zerolinecolor": "white",
           "zerolinewidth": 2
          }
         }
        },
        "xaxis": {
         "title": {
          "text": "População por Supermercados"
         }
        },
        "yaxis": {
         "title": {
          "text": "Densidade demográfica"
         }
        }
       }
      },
      "text/html": [
       "<div>                            <div id=\"53236079-ca56-441f-95f1-30383b229b64\" class=\"plotly-graph-div\" style=\"height:525px; width:100%;\"></div>            <script type=\"text/javascript\">                require([\"plotly\"], function(Plotly) {                    window.PLOTLYENV=window.PLOTLYENV || {};                                    if (document.getElementById(\"53236079-ca56-441f-95f1-30383b229b64\")) {                    Plotly.newPlot(                        \"53236079-ca56-441f-95f1-30383b229b64\",                        [{\"marker\": {\"color\": [3.0, 3.0, 0.0, 0.0, 0.0, 1.0, 3.0, 0.0, 2.0, 0.0, 2.0, 2.0, 2.0, 0.0, 2.0, 2.0, 2.0, 1.0, 2.0, 2.0, 1.0, 3.0, 2.0, 0.0, 1.0, 0.0, 1.0, 0.0, 1.0, 1.0, 2.0, 2.0, 2.0, 2.0, 3.0, 1.0, 0.0, 2.0, 3.0, 0.0, 1.0, 0.0, 2.0, 2.0, 0.0, 0.0, 0.0, 3.0, 2.0, 3.0, 1.0, 3.0, 3.0, 2.0, 2.0, 3.0, 3.0, 0.0, 1.0, 0.0, 1.0, 3.0, 1.0, 1.0, 2.0, 0.0, 0.0, 3.0, 2.0, 0.0, 0.0, 1.0, 0.0, 1.0, 0.0, 1.0, 1.0, 0.0, 1.0, 1.0, 0.0, 2.0, 1.0, 2.0, 2.0, 0.0, 0.0, 0.0, 0.0, 3.0, 2.0, 1.0, 0.0, 1.0, 1.0, 1.0, 1.0, 2.0, 0.0, 0.0, 2.0, 0.0, 1.0, 3.0, 3.0, 3.0, 2.0, 0.0, 1.0, 3.0, 0.0, 2.0, 1.0, 2.0, 0.0, 1.0, 2.0, 2.0, 2.0, 2.0, 2.0, 0.0, 1.0, 2.0, 2.0, 0.0, 1.0, 3.0, 0.0, 1.0, 2.0, 3.0, 0.0, 0.0, 0.0, 1.0, 2.0, 0.0, 0.0, 0.0, 0.0, 1.0, 2.0, 2.0, 1.0, 1.0, 2.0, 2.0, 0.0, 2.0, 3.0, 1.0, 2.0, 0.0, 2.0, 2.0, 2.0, 0.0, 2.0, 2.0, 0.0, 2.0, 3.0, 0.0, 2.0, 0.0, 1.0, 1.0, 2.0, 2.0, 0.0, 2.0, 2.0, 2.0, 1.0, 0.0, 1.0, 2.0, 1.0, 2.0, 3.0, 3.0, 0.0, 0.0, 0.0, 0.0, 0.0, 2.0, 0.0, 0.0, 0.0, 1.0, 1.0, 1.0, 2.0, 0.0, 0.0, 0.0, 0.0, 1.0, 3.0, 3.0, 0.0, 0.0, 0.0, 0.0, 1.0, 3.0, 2.0, 1.0, 2.0, 3.0, 2.0, 2.0, 2.0, 2.0, 1.0, 2.0, 0.0, 0.0, 2.0, 1.0, 0.0]}, \"mode\": \"markers\", \"text\": [3.0, 3.0, 0.0, 0.0, 0.0, 1.0, 3.0, 0.0, 2.0, 0.0, 2.0, 2.0, 2.0, 0.0, 2.0, 2.0, 2.0, 1.0, 2.0, 2.0, 1.0, 3.0, 2.0, 0.0, 1.0, 0.0, 1.0, 0.0, 1.0, 1.0, 2.0, 2.0, 2.0, 2.0, 3.0, 1.0, 0.0, 2.0, 3.0, 0.0, 1.0, 0.0, 2.0, 2.0, 0.0, 0.0, 0.0, 3.0, 2.0, 3.0, 1.0, 3.0, 3.0, 2.0, 2.0, 3.0, 3.0, 0.0, 1.0, 0.0, 1.0, 3.0, 1.0, 1.0, 2.0, 0.0, 0.0, 3.0, 2.0, 0.0, 0.0, 1.0, 0.0, 1.0, 0.0, 1.0, 1.0, 0.0, 1.0, 1.0, 0.0, 2.0, 1.0, 2.0, 2.0, 0.0, 0.0, 0.0, 0.0, 3.0, 2.0, 1.0, 0.0, 1.0, 1.0, 1.0, 1.0, 2.0, 0.0, 0.0, 2.0, 0.0, 1.0, 3.0, 3.0, 3.0, 2.0, 0.0, 1.0, 3.0, 0.0, 2.0, 1.0, 2.0, 0.0, 1.0, 2.0, 2.0, 2.0, 2.0, 2.0, 0.0, 1.0, 2.0, 2.0, 0.0, 1.0, 3.0, 0.0, 1.0, 2.0, 3.0, 0.0, 0.0, 0.0, 1.0, 2.0, 0.0, 0.0, 0.0, 0.0, 1.0, 2.0, 2.0, 1.0, 1.0, 2.0, 2.0, 0.0, 2.0, 3.0, 1.0, 2.0, 0.0, 2.0, 2.0, 2.0, 0.0, 2.0, 2.0, 0.0, 2.0, 3.0, 0.0, 2.0, 0.0, 1.0, 1.0, 2.0, 2.0, 0.0, 2.0, 2.0, 2.0, 1.0, 0.0, 1.0, 2.0, 1.0, 2.0, 3.0, 3.0, 0.0, 0.0, 0.0, 0.0, 0.0, 2.0, 0.0, 0.0, 0.0, 1.0, 1.0, 1.0, 2.0, 0.0, 0.0, 0.0, 0.0, 1.0, 3.0, 3.0, 0.0, 0.0, 0.0, 0.0, 1.0, 3.0, 2.0, 1.0, 2.0, 3.0, 2.0, 2.0, 2.0, 2.0, 1.0, 2.0, 0.0, 0.0, 2.0, 1.0, 0.0], \"type\": \"scatter\", \"x\": [0.9604730360259522, 0.8694597060899953, 0.11378763671854633, 0.3422363649720823, 0.2857866142592876, 0.5984901725653218, 0.8551553381435528, 0.24506145084899666, 0.7151041040330953, 0.18075020616357482, 0.7165214430092209, 0.5958387859583487, 0.6084123868151076, 0.3986160501537195, 0.6769902982547223, 0.7377248452755937, 0.6401465726041332, 0.6998668943855644, 0.533392017890904, 0.7744816023374069, 0.5469289538820485, 0.8909978578044726, 0.7083283738083029, 0.19983277718627185, 0.5441672052884736, 0.31854375493940723, 0.669431649948497, 0.05799631816600267, 0.681499900555228, 0.683667408512006, 0.4167079931464174, 0.8140235285361752, 0.5269827153666781, 0.4685325095872687, 0.8582517014011913, 0.6320231087201169, 0.09614986549351091, 0.6553413544803128, 0.8799455088052774, 0.3477628496853333, 0.5679248736883605, 0.3401014552142058, 0.5482905141142885, 0.6944550593681938, 0.12207536348775172, 0.07126470780064424, 0.29772395090693266, 0.863559920155137, 0.5996155166304818, 0.9290744549504338, 0.5923109308831042, 0.9023582881578731, 0.9653320482805092, 0.6270550340103938, 0.6038329512573315, 0.9731163962744768, 0.8421098252548741, 0.2644440251595325, 0.6987828812278726, 0.15064733572818964, 0.7229153097162639, 0.8953570657015522, 0.472406177708546, 0.8000047516412405, 0.4243678407689547, 0.11290993196003642, 0.0794065148723546, 0.8283118216788353, 0.7342265569924669, 0.2691776163792865, 0.24284925796511644, 0.7772814037666114, 0.14346700074912813, 0.3238676034126179, 0.04218711988694724, 0.5105726358719569, 0.4257103031685209, 0.26587190952474055, 0.6677160623435241, 0.6862627794008895, 0.13598123298494522, 0.7524574570867972, 0.4317147816016711, 0.5851553582731166, 0.5920546053092333, 0.27012260364391744, 0.16239081150902668, 0.41193044453028677, 0.3419484511365626, 0.9064930780875858, 0.7084392975810401, 0.696672904879264, 0.2834766443534665, 0.6301526708645375, 0.49934186332387137, 0.4668266686249072, 0.5747438924522819, 0.7828271872764632, 0.4174077261449722, 0.24326385033117218, 0.7712953406050118, 0.20694645280573695, 0.73237070013937, 0.8687137016117046, 0.8277427559035927, 0.9363211989742429, 0.5483325103446816, 0.15363887365945136, 0.5325910619221855, 0.8882597201354009, 0.4515911280510553, 0.6579945765003551, 0.4848045675337377, 0.7122361963230242, 0.26463952390011525, 0.5856570562979275, 0.7280469026785334, 0.6181008705401126, 0.5872578673974477, 0.7097864946940967, 0.7066024322598471, 0.16725005270640925, 0.5853063363873194, 0.6337562459639619, 0.7378454990452386, 0.45691612603673815, 0.43725534858327053, 0.8400112816093427, 0.14980552271633268, 0.5968932934344007, 0.6641011509562247, 0.9287042604215573, 0.09054797852488324, 0.031312416586354364, 0.16753017180617238, 0.8160350353913159, 0.6689945323360164, 0.13386741798925345, 0.31399668128765346, 0.03903439235402931, 0.0499448654013127, 0.5729462314044705, 0.5039036576162029, 0.7336848174881544, 0.683536313725178, 0.5526231204973758, 0.536966976600485, 0.7832799608449256, 0.15295237207981827, 0.5182401451783767, 0.8769324434384465, 0.7494756928893603, 0.7783039296451122, 0.49886693878163546, 0.692844851313581, 0.42369357500314314, 0.6581237589664781, 0.10537439736776211, 0.3507925972933262, 0.7476959297746484, 0.34732025530269794, 0.5047846745037955, 0.9588070401376432, 0.05578132284131573, 0.574094383893463, 0.33706158828978944, 0.5414453793989187, 0.4420914977638586, 0.5762112058288229, 0.6026364914672538, 0.15558833809718162, 0.5755097227814345, 0.49636432233006816, 0.601182223450738, 0.8099603426270117, 0.1676164146531305, 0.7330200634400251, 0.6237025123622494, 0.6147898309174915, 0.5008185698843877, 0.9207778715984127, 0.9423945782563484, 0.15561483903461426, 0.2646261084725376, 0.1441791845815326, 0.44490440619005855, 0.05088770768471157, 0.6204153274576226, 0.11825492366624132, 0.023823479829385572, 0.1849717920039591, 0.7845965366792035, 0.4104610868138763, 0.6749896915646941, 0.720683692677465, 0.17107954807384093, 0.23088546523072784, 0.0686438507679125, 0.24849087003814735, 0.4849809130873696, 0.8231355875403997, 0.9311596868339063, 0.3837521536613831, 0.2888408159617251, 0.4441020716775486, 0.05655217280080032, 0.6556187084519921, 0.9533614648354022, 0.6883747420283147, 0.42582910031501986, 0.758484874002799, 0.9838305943951627, 0.6782118599352407, 0.6374836760998408, 0.5092665276927172, 0.6251051658524847, 0.6021594213989248, 0.6746758364711762, 0.1932733414777707, 0.10315987395270661, 0.758891202649776, 0.7839959615896721, 0.256095734363217], \"y\": [0.15110328953700888, 0.33739340620664177, 0.989778017195555, 0.8870094526541877, 0.954091272959921, 0.535980114081239, 0.2397650555191455, 0.9546282592605291, 0.38775199784213404, 0.9739941199028519, 0.19221540529008393, 0.106015836312319, 0.09006799175633852, 0.8846197538539773, 0.2770929441902159, 0.26413616588231725, 0.35314752588661347, 0.6868545033631952, 0.059134041438863756, 0.28378521674767954, 0.6132312733702429, 0.02133410368746612, 0.1155214710055919, 0.9684701101761204, 0.5718418017556668, 0.9162895760902158, 0.7424217854257874, 0.9948795418281945, 0.7119918961058223, 0.5414146171069565, 0.10479343391724602, 0.09726102776739266, 0.44070373674024105, 0.44221096589779085, 0.47417625263736674, 0.5478400704666638, 0.9870509885229067, 0.43355268081159914, 0.3701933535859736, 0.9354675284736169, 0.759096993646625, 0.8382870624717885, 0.1685469038492074, 0.26847027293832665, 0.9811536194017115, 0.9970511803716967, 0.937220142702181, 0.39607572697514987, 0.2570759673862499, 0.2273447180716506, 0.5494741931776409, 0.35966261559794727, 0.057223255917312164, 0.32592755513832056, 0.4485957812535484, 0.05987048153783426, 0.12030759420273163, 0.9441786478369716, 0.5191240058346619, 0.9833611332478365, 0.5002680497635261, 0.20937354206916214, 0.7866413866337939, 0.5645119348554561, 0.238270532711281, 0.9797578731126831, 0.9965169802673284, 0.34555302232188095, 0.08714358375536878, 0.9538203533556652, 0.9665805794647327, 0.5416231555889669, 0.988630288984063, 0.6946874233729086, 0.9980786720818, 0.6871767016059944, 0.7184289129834415, 0.9617995549085594, 0.7106369610033133, 0.5963385704824936, 0.935872712250174, 0.20964348773432512, 0.7730535647284325, 0.13286591622456786, 0.26124787947243117, 0.9494750558948573, 0.9815182298173829, 0.90590181880499, 0.9362492767577136, 0.23722011390018516, 0.42621642165841656, 0.5206977351305738, 0.9318918485856698, 0.7011416906437833, 0.7805225550628558, 0.6902330475480475, 0.7767465270607293, 0.12993376365690773, 0.902213104726579, 0.9682057571189343, 0.2835957346063922, 0.972860129851309, 0.516378178697887, 0.21534913722501692, 0.2093280090796658, 0.10875808157702611, 0.04720280368545817, 0.981145575203994, 0.588535165744573, 0.06798201457849994, 0.8794119490974575, 0.44639733985731056, 0.7029574034565458, 0.12072358810216427, 0.9502941626325992, 0.6113744102541434, 0.08467277860209463, 0.39742393486069466, 0.13173404179305273, 0.18576696686613375, 0.11652600094650685, 0.9695060966229855, 0.7520110104993016, 0.32250528572885034, 0.03841082615789128, 0.8868431551933635, 0.7040724090051933, 0.20035091872378177, 0.9875701280026645, 0.6088860695603086, 0.24203332143565684, 0.17659369642520079, 0.9925572009348583, 0.9987983968228287, 0.96015582268669, 0.5717004661975199, 0.33400656679128177, 0.9803124867069805, 0.8934573742081934, 0.9988735402557872, 0.99797964738002, 0.5922020696891023, 0.13061763915232275, 0.30964116246806866, 0.6365922165950931, 0.80398619995447, 0.40298820467827545, 0.0775679905041892, 0.9846749386901837, 0.41993170973897914, 0.10406395007692461, 0.4474741594184853, 0.2864679199571373, 0.8537621917748868, 0.3339548892796845, 0.44702644612540104, 0.28681646089301177, 0.962565004464597, 0.029728289254963926, 0.2957003795096637, 0.9015795603230065, 0.4914530504610111, 0.2819997590037021, 0.9966054718777405, 0.20458053165585915, 0.9365097685542892, 0.7940048738301047, 0.7348954360227488, 0.07703673247964071, 0.4649090224261269, 0.9796638423817077, 0.16427374405441933, 0.03528108133632385, 0.09568124407312317, 0.5073107598538781, 0.9809478350855371, 0.6020351473424472, 0.31999522368961564, 0.7651505535218679, 0.25587096234843515, 0.30944984852598084, 0.024151961545909605, 0.9783695701962641, 0.8653427527664463, 0.9813084240195014, 0.8588824525555396, 0.9945213313393886, 0.27115323926180823, 0.9900604816584943, 0.9995461109841194, 0.9434862682011357, 0.5394356915650897, 0.7739391290792358, 0.5305122127569403, 0.39664340026284706, 0.9649990700897165, 0.9449500664945498, 0.9936322446652586, 0.9557910532312456, 0.8097131131691329, 0.4369015500975166, 0.15213411169289998, 0.8544191137576532, 0.9326627852345603, 0.8690430294400052, 0.9976994275787604, 0.4858275197029943, 0.12497668890940913, 0.1317604911710273, 0.7765318897292381, 0.2837101792235757, 0.09803334943117639, 0.10032329420711485, 0.22855478970983897, 0.06501838208064044, 0.4524754790937768, 0.5493392291406158, 0.37486931842069526, 0.9441229410031775, 0.9745906840257627, 0.23591214327269086, 0.5776034868202032, 0.934597135440711]}],                        {\"font\": {\"color\": \"#7f7f7f\", \"size\": 18}, \"template\": {\"data\": {\"bar\": [{\"error_x\": {\"color\": \"#2a3f5f\"}, \"error_y\": {\"color\": \"#2a3f5f\"}, \"marker\": {\"line\": {\"color\": \"#E5ECF6\", \"width\": 0.5}}, \"type\": \"bar\"}], \"barpolar\": [{\"marker\": {\"line\": {\"color\": \"#E5ECF6\", \"width\": 0.5}}, \"type\": \"barpolar\"}], \"carpet\": [{\"aaxis\": {\"endlinecolor\": \"#2a3f5f\", \"gridcolor\": \"white\", \"linecolor\": \"white\", \"minorgridcolor\": \"white\", \"startlinecolor\": \"#2a3f5f\"}, \"baxis\": {\"endlinecolor\": \"#2a3f5f\", \"gridcolor\": \"white\", \"linecolor\": \"white\", \"minorgridcolor\": \"white\", \"startlinecolor\": \"#2a3f5f\"}, \"type\": \"carpet\"}], \"choropleth\": [{\"colorbar\": {\"outlinewidth\": 0, \"ticks\": \"\"}, \"type\": \"choropleth\"}], \"contour\": [{\"colorbar\": {\"outlinewidth\": 0, \"ticks\": \"\"}, \"colorscale\": [[0.0, \"#0d0887\"], [0.1111111111111111, \"#46039f\"], [0.2222222222222222, \"#7201a8\"], [0.3333333333333333, \"#9c179e\"], [0.4444444444444444, \"#bd3786\"], [0.5555555555555556, \"#d8576b\"], [0.6666666666666666, \"#ed7953\"], [0.7777777777777778, \"#fb9f3a\"], [0.8888888888888888, \"#fdca26\"], [1.0, \"#f0f921\"]], \"type\": \"contour\"}], \"contourcarpet\": [{\"colorbar\": {\"outlinewidth\": 0, \"ticks\": \"\"}, \"type\": \"contourcarpet\"}], \"heatmap\": [{\"colorbar\": {\"outlinewidth\": 0, \"ticks\": \"\"}, \"colorscale\": [[0.0, \"#0d0887\"], [0.1111111111111111, \"#46039f\"], [0.2222222222222222, \"#7201a8\"], [0.3333333333333333, \"#9c179e\"], [0.4444444444444444, \"#bd3786\"], [0.5555555555555556, \"#d8576b\"], [0.6666666666666666, \"#ed7953\"], [0.7777777777777778, \"#fb9f3a\"], [0.8888888888888888, \"#fdca26\"], [1.0, \"#f0f921\"]], \"type\": \"heatmap\"}], \"heatmapgl\": [{\"colorbar\": {\"outlinewidth\": 0, \"ticks\": \"\"}, \"colorscale\": [[0.0, \"#0d0887\"], [0.1111111111111111, \"#46039f\"], [0.2222222222222222, \"#7201a8\"], [0.3333333333333333, \"#9c179e\"], [0.4444444444444444, \"#bd3786\"], [0.5555555555555556, \"#d8576b\"], [0.6666666666666666, \"#ed7953\"], [0.7777777777777778, \"#fb9f3a\"], [0.8888888888888888, \"#fdca26\"], [1.0, \"#f0f921\"]], \"type\": \"heatmapgl\"}], \"histogram\": [{\"marker\": {\"colorbar\": {\"outlinewidth\": 0, \"ticks\": \"\"}}, \"type\": \"histogram\"}], \"histogram2d\": [{\"colorbar\": {\"outlinewidth\": 0, \"ticks\": \"\"}, \"colorscale\": [[0.0, \"#0d0887\"], [0.1111111111111111, \"#46039f\"], [0.2222222222222222, \"#7201a8\"], [0.3333333333333333, \"#9c179e\"], [0.4444444444444444, \"#bd3786\"], [0.5555555555555556, \"#d8576b\"], [0.6666666666666666, \"#ed7953\"], [0.7777777777777778, \"#fb9f3a\"], [0.8888888888888888, \"#fdca26\"], [1.0, \"#f0f921\"]], \"type\": \"histogram2d\"}], \"histogram2dcontour\": [{\"colorbar\": {\"outlinewidth\": 0, \"ticks\": \"\"}, \"colorscale\": [[0.0, \"#0d0887\"], [0.1111111111111111, \"#46039f\"], [0.2222222222222222, \"#7201a8\"], [0.3333333333333333, \"#9c179e\"], [0.4444444444444444, \"#bd3786\"], [0.5555555555555556, \"#d8576b\"], [0.6666666666666666, \"#ed7953\"], [0.7777777777777778, \"#fb9f3a\"], [0.8888888888888888, \"#fdca26\"], [1.0, \"#f0f921\"]], \"type\": \"histogram2dcontour\"}], \"mesh3d\": [{\"colorbar\": {\"outlinewidth\": 0, \"ticks\": \"\"}, \"type\": \"mesh3d\"}], \"parcoords\": [{\"line\": {\"colorbar\": {\"outlinewidth\": 0, \"ticks\": \"\"}}, \"type\": \"parcoords\"}], \"pie\": [{\"automargin\": true, \"type\": \"pie\"}], \"scatter\": [{\"marker\": {\"colorbar\": {\"outlinewidth\": 0, \"ticks\": \"\"}}, \"type\": \"scatter\"}], \"scatter3d\": [{\"line\": {\"colorbar\": {\"outlinewidth\": 0, \"ticks\": \"\"}}, \"marker\": {\"colorbar\": {\"outlinewidth\": 0, \"ticks\": \"\"}}, \"type\": \"scatter3d\"}], \"scattercarpet\": [{\"marker\": {\"colorbar\": {\"outlinewidth\": 0, \"ticks\": \"\"}}, \"type\": \"scattercarpet\"}], \"scattergeo\": [{\"marker\": {\"colorbar\": {\"outlinewidth\": 0, \"ticks\": \"\"}}, \"type\": \"scattergeo\"}], \"scattergl\": [{\"marker\": {\"colorbar\": {\"outlinewidth\": 0, \"ticks\": \"\"}}, \"type\": \"scattergl\"}], \"scattermapbox\": [{\"marker\": {\"colorbar\": {\"outlinewidth\": 0, \"ticks\": \"\"}}, \"type\": \"scattermapbox\"}], \"scatterpolar\": [{\"marker\": {\"colorbar\": {\"outlinewidth\": 0, \"ticks\": \"\"}}, \"type\": \"scatterpolar\"}], \"scatterpolargl\": [{\"marker\": {\"colorbar\": {\"outlinewidth\": 0, \"ticks\": \"\"}}, \"type\": \"scatterpolargl\"}], \"scatterternary\": [{\"marker\": {\"colorbar\": {\"outlinewidth\": 0, \"ticks\": \"\"}}, \"type\": \"scatterternary\"}], \"surface\": [{\"colorbar\": {\"outlinewidth\": 0, \"ticks\": \"\"}, \"colorscale\": [[0.0, \"#0d0887\"], [0.1111111111111111, \"#46039f\"], [0.2222222222222222, \"#7201a8\"], [0.3333333333333333, \"#9c179e\"], [0.4444444444444444, \"#bd3786\"], [0.5555555555555556, \"#d8576b\"], [0.6666666666666666, \"#ed7953\"], [0.7777777777777778, \"#fb9f3a\"], [0.8888888888888888, \"#fdca26\"], [1.0, \"#f0f921\"]], \"type\": \"surface\"}], \"table\": [{\"cells\": {\"fill\": {\"color\": \"#EBF0F8\"}, \"line\": {\"color\": \"white\"}}, \"header\": {\"fill\": {\"color\": \"#C8D4E3\"}, \"line\": {\"color\": \"white\"}}, \"type\": \"table\"}]}, \"layout\": {\"annotationdefaults\": {\"arrowcolor\": \"#2a3f5f\", \"arrowhead\": 0, \"arrowwidth\": 1}, \"autotypenumbers\": \"strict\", \"coloraxis\": {\"colorbar\": {\"outlinewidth\": 0, \"ticks\": \"\"}}, \"colorscale\": {\"diverging\": [[0, \"#8e0152\"], [0.1, \"#c51b7d\"], [0.2, \"#de77ae\"], [0.3, \"#f1b6da\"], [0.4, \"#fde0ef\"], [0.5, \"#f7f7f7\"], [0.6, \"#e6f5d0\"], [0.7, \"#b8e186\"], [0.8, \"#7fbc41\"], [0.9, \"#4d9221\"], [1, \"#276419\"]], \"sequential\": [[0.0, \"#0d0887\"], [0.1111111111111111, \"#46039f\"], [0.2222222222222222, \"#7201a8\"], [0.3333333333333333, \"#9c179e\"], [0.4444444444444444, \"#bd3786\"], [0.5555555555555556, \"#d8576b\"], [0.6666666666666666, \"#ed7953\"], [0.7777777777777778, \"#fb9f3a\"], [0.8888888888888888, \"#fdca26\"], [1.0, \"#f0f921\"]], \"sequentialminus\": [[0.0, \"#0d0887\"], [0.1111111111111111, \"#46039f\"], [0.2222222222222222, \"#7201a8\"], [0.3333333333333333, \"#9c179e\"], [0.4444444444444444, \"#bd3786\"], [0.5555555555555556, \"#d8576b\"], [0.6666666666666666, \"#ed7953\"], [0.7777777777777778, \"#fb9f3a\"], [0.8888888888888888, \"#fdca26\"], [1.0, \"#f0f921\"]]}, \"colorway\": [\"#636efa\", \"#EF553B\", \"#00cc96\", \"#ab63fa\", \"#FFA15A\", \"#19d3f3\", \"#FF6692\", \"#B6E880\", \"#FF97FF\", \"#FECB52\"], \"font\": {\"color\": \"#2a3f5f\"}, \"geo\": {\"bgcolor\": \"white\", \"lakecolor\": \"white\", \"landcolor\": \"#E5ECF6\", \"showlakes\": true, \"showland\": true, \"subunitcolor\": \"white\"}, \"hoverlabel\": {\"align\": \"left\"}, \"hovermode\": \"closest\", \"mapbox\": {\"style\": \"light\"}, \"paper_bgcolor\": \"white\", \"plot_bgcolor\": \"#E5ECF6\", \"polar\": {\"angularaxis\": {\"gridcolor\": \"white\", \"linecolor\": \"white\", \"ticks\": \"\"}, \"bgcolor\": \"#E5ECF6\", \"radialaxis\": {\"gridcolor\": \"white\", \"linecolor\": \"white\", \"ticks\": \"\"}}, \"scene\": {\"xaxis\": {\"backgroundcolor\": \"#E5ECF6\", \"gridcolor\": \"white\", \"gridwidth\": 2, \"linecolor\": \"white\", \"showbackground\": true, \"ticks\": \"\", \"zerolinecolor\": \"white\"}, \"yaxis\": {\"backgroundcolor\": \"#E5ECF6\", \"gridcolor\": \"white\", \"gridwidth\": 2, \"linecolor\": \"white\", \"showbackground\": true, \"ticks\": \"\", \"zerolinecolor\": \"white\"}, \"zaxis\": {\"backgroundcolor\": \"#E5ECF6\", \"gridcolor\": \"white\", \"gridwidth\": 2, \"linecolor\": \"white\", \"showbackground\": true, \"ticks\": \"\", \"zerolinecolor\": \"white\"}}, \"shapedefaults\": {\"line\": {\"color\": \"#2a3f5f\"}}, \"ternary\": {\"aaxis\": {\"gridcolor\": \"white\", \"linecolor\": \"white\", \"ticks\": \"\"}, \"baxis\": {\"gridcolor\": \"white\", \"linecolor\": \"white\", \"ticks\": \"\"}, \"bgcolor\": \"#E5ECF6\", \"caxis\": {\"gridcolor\": \"white\", \"linecolor\": \"white\", \"ticks\": \"\"}}, \"title\": {\"x\": 0.05}, \"xaxis\": {\"automargin\": true, \"gridcolor\": \"white\", \"linecolor\": \"white\", \"ticks\": \"\", \"title\": {\"standoff\": 15}, \"zerolinecolor\": \"white\", \"zerolinewidth\": 2}, \"yaxis\": {\"automargin\": true, \"gridcolor\": \"white\", \"linecolor\": \"white\", \"ticks\": \"\", \"title\": {\"standoff\": 15}, \"zerolinecolor\": \"white\", \"zerolinewidth\": 2}}}, \"xaxis\": {\"title\": {\"text\": \"Popula\\u00e7\\u00e3o por Supermercados\"}}, \"yaxis\": {\"title\": {\"text\": \"Densidade demogr\\u00e1fica\"}}},                        {\"responsive\": true}                    ).then(function(){\n",
       "                            \n",
       "var gd = document.getElementById('53236079-ca56-441f-95f1-30383b229b64');\n",
       "var x = new MutationObserver(function (mutations, observer) {{\n",
       "        var display = window.getComputedStyle(gd).display;\n",
       "        if (!display || display === 'none') {{\n",
       "            console.log([gd, 'removed!']);\n",
       "            Plotly.purge(gd);\n",
       "            observer.disconnect();\n",
       "        }}\n",
       "}});\n",
       "\n",
       "// Listen for the removal of the full notebook cells\n",
       "var notebookContainer = gd.closest('#notebook-container');\n",
       "if (notebookContainer) {{\n",
       "    x.observe(notebookContainer, {childList: true});\n",
       "}}\n",
       "\n",
       "// Listen for the clearing of the current output cell\n",
       "var outputEl = gd.closest('.output');\n",
       "if (outputEl) {{\n",
       "    x.observe(outputEl, {childList: true});\n",
       "}}\n",
       "\n",
       "                        })                };                });            </script>        </div>"
      ]
     },
     "metadata": {},
     "output_type": "display_data"
    }
   ],
   "source": [
    "fig = go.Figure()\n",
    "fig.add_trace(go.Scatter(x = norm_df['Populacao por Supermercados'], \n",
    "                         y = norm_df['Densidade demográfica, 2000'],\n",
    "                         mode = 'markers',\n",
    "                         marker = dict(color = labels_kmeans.astype(np.float)),\n",
    "                         text = labels_kmeans))\n",
    "fig.update_layout(\n",
    "    xaxis_title=\"População por Supermercados\",\n",
    "    yaxis_title=\"Densidade demográfica\",\n",
    "    font=dict(\n",
    "        \n",
    "        size=18,\n",
    "        color=\"#7f7f7f\"\n",
    "    )\n",
    ")\n",
    "fig.show()"
   ]
  },
  {
   "cell_type": "code",
   "execution_count": 15,
   "id": "85bf9b46",
   "metadata": {},
   "outputs": [
    {
     "data": {
      "text/html": [
       "<div>\n",
       "<style scoped>\n",
       "    .dataframe tbody tr th:only-of-type {\n",
       "        vertical-align: middle;\n",
       "    }\n",
       "\n",
       "    .dataframe tbody tr th {\n",
       "        vertical-align: top;\n",
       "    }\n",
       "\n",
       "    .dataframe thead th {\n",
       "        text-align: right;\n",
       "    }\n",
       "</style>\n",
       "<table border=\"1\" class=\"dataframe\">\n",
       "  <thead>\n",
       "    <tr style=\"text-align: right;\">\n",
       "      <th>cluster</th>\n",
       "      <th>0</th>\n",
       "      <th>1</th>\n",
       "      <th>2</th>\n",
       "      <th>3</th>\n",
       "    </tr>\n",
       "  </thead>\n",
       "  <tbody>\n",
       "    <tr>\n",
       "      <th>Área (km²)</th>\n",
       "      <td>253.678082</td>\n",
       "      <td>492.929412</td>\n",
       "      <td>3297.048571</td>\n",
       "      <td>2899.410345</td>\n",
       "    </tr>\n",
       "    <tr>\n",
       "      <th>Densidade demográfica, 2000</th>\n",
       "      <td>3330.330137</td>\n",
       "      <td>621.384314</td>\n",
       "      <td>131.557143</td>\n",
       "      <td>179.796552</td>\n",
       "    </tr>\n",
       "    <tr>\n",
       "      <th>Distância à capital (km)</th>\n",
       "      <td>31.455219</td>\n",
       "      <td>111.297856</td>\n",
       "      <td>208.612197</td>\n",
       "      <td>229.999104</td>\n",
       "    </tr>\n",
       "    <tr>\n",
       "      <th>Esperança de vida ao nascer, 2000</th>\n",
       "      <td>70.318082</td>\n",
       "      <td>70.414510</td>\n",
       "      <td>70.695000</td>\n",
       "      <td>67.871034</td>\n",
       "    </tr>\n",
       "    <tr>\n",
       "      <th>Taxa de fecundidade total, 2000</th>\n",
       "      <td>2.176164</td>\n",
       "      <td>2.270392</td>\n",
       "      <td>2.248286</td>\n",
       "      <td>2.584138</td>\n",
       "    </tr>\n",
       "    <tr>\n",
       "      <th>Renda per Capita, 2000</th>\n",
       "      <td>349.061096</td>\n",
       "      <td>318.289216</td>\n",
       "      <td>347.123143</td>\n",
       "      <td>200.016207</td>\n",
       "    </tr>\n",
       "    <tr>\n",
       "      <th>Índice de Gini, 2000</th>\n",
       "      <td>0.550959</td>\n",
       "      <td>0.551373</td>\n",
       "      <td>0.580000</td>\n",
       "      <td>0.582069</td>\n",
       "    </tr>\n",
       "    <tr>\n",
       "      <th>Intensidade da indigência, 2000</th>\n",
       "      <td>61.523151</td>\n",
       "      <td>59.336667</td>\n",
       "      <td>53.534571</td>\n",
       "      <td>52.402069</td>\n",
       "    </tr>\n",
       "    <tr>\n",
       "      <th>Intensidade da pobreza, 2000</th>\n",
       "      <td>46.157397</td>\n",
       "      <td>44.404510</td>\n",
       "      <td>40.553429</td>\n",
       "      <td>45.941034</td>\n",
       "    </tr>\n",
       "    <tr>\n",
       "      <th>Índice de Desenvolvimento Humano Municipal, 2000</th>\n",
       "      <td>0.795863</td>\n",
       "      <td>0.787784</td>\n",
       "      <td>0.800329</td>\n",
       "      <td>0.726724</td>\n",
       "    </tr>\n",
       "    <tr>\n",
       "      <th>Taxa bruta de freqüência à escola, 2000</th>\n",
       "      <td>84.739315</td>\n",
       "      <td>83.480392</td>\n",
       "      <td>84.660857</td>\n",
       "      <td>82.206552</td>\n",
       "    </tr>\n",
       "    <tr>\n",
       "      <th>Taxa de alfabetização, 2000</th>\n",
       "      <td>92.335479</td>\n",
       "      <td>91.102549</td>\n",
       "      <td>91.969714</td>\n",
       "      <td>82.572069</td>\n",
       "    </tr>\n",
       "    <tr>\n",
       "      <th>Média de anos de estudo das pessoas de 25 anos ou mais de idade, 2000</th>\n",
       "      <td>6.743836</td>\n",
       "      <td>6.360588</td>\n",
       "      <td>6.554714</td>\n",
       "      <td>5.270690</td>\n",
       "    </tr>\n",
       "    <tr>\n",
       "      <th>Populacao</th>\n",
       "      <td>721475.013699</td>\n",
       "      <td>237905.470588</td>\n",
       "      <td>244259.542857</td>\n",
       "      <td>157854.724138</td>\n",
       "    </tr>\n",
       "    <tr>\n",
       "      <th>QTD_TOTAL_CNPJ_SUPERMERCADO</th>\n",
       "      <td>1668.972603</td>\n",
       "      <td>563.039216</td>\n",
       "      <td>857.428571</td>\n",
       "      <td>307.931034</td>\n",
       "    </tr>\n",
       "    <tr>\n",
       "      <th>Variacao_Populacao_1991_a_2000</th>\n",
       "      <td>0.269508</td>\n",
       "      <td>0.347676</td>\n",
       "      <td>0.259309</td>\n",
       "      <td>0.225227</td>\n",
       "    </tr>\n",
       "    <tr>\n",
       "      <th>Percentual_Populacao_65_anos</th>\n",
       "      <td>0.049706</td>\n",
       "      <td>0.049851</td>\n",
       "      <td>0.056082</td>\n",
       "      <td>0.051317</td>\n",
       "    </tr>\n",
       "    <tr>\n",
       "      <th>Percentual_Populacao_Urbana</th>\n",
       "      <td>0.989257</td>\n",
       "      <td>0.942671</td>\n",
       "      <td>0.926592</td>\n",
       "      <td>0.857688</td>\n",
       "    </tr>\n",
       "    <tr>\n",
       "      <th>Populacao por Supermercados</th>\n",
       "      <td>502.326456</td>\n",
       "      <td>576.367958</td>\n",
       "      <td>321.535522</td>\n",
       "      <td>690.355660</td>\n",
       "    </tr>\n",
       "    <tr>\n",
       "      <th>n_clients</th>\n",
       "      <td>73.000000</td>\n",
       "      <td>51.000000</td>\n",
       "      <td>70.000000</td>\n",
       "      <td>29.000000</td>\n",
       "    </tr>\n",
       "  </tbody>\n",
       "</table>\n",
       "</div>"
      ],
      "text/plain": [
       "cluster                                                         0  \\\n",
       "Área (km²)                                             253.678082   \n",
       "Densidade demográfica, 2000                           3330.330137   \n",
       "Distância à capital (km)                                31.455219   \n",
       "Esperança de vida ao nascer, 2000                       70.318082   \n",
       "Taxa de fecundidade total, 2000                          2.176164   \n",
       "Renda per Capita, 2000                                 349.061096   \n",
       "Índice de Gini, 2000                                     0.550959   \n",
       "Intensidade da indigência, 2000                         61.523151   \n",
       "Intensidade da pobreza, 2000                            46.157397   \n",
       "Índice de Desenvolvimento Humano Municipal, 2000         0.795863   \n",
       "Taxa bruta de freqüência à escola, 2000                 84.739315   \n",
       "Taxa de alfabetização, 2000                             92.335479   \n",
       "Média de anos de estudo das pessoas de 25 anos ...       6.743836   \n",
       "Populacao                                           721475.013699   \n",
       "QTD_TOTAL_CNPJ_SUPERMERCADO                           1668.972603   \n",
       "Variacao_Populacao_1991_a_2000                           0.269508   \n",
       "Percentual_Populacao_65_anos                             0.049706   \n",
       "Percentual_Populacao_Urbana                              0.989257   \n",
       "Populacao por Supermercados                            502.326456   \n",
       "n_clients                                               73.000000   \n",
       "\n",
       "cluster                                                         1  \\\n",
       "Área (km²)                                             492.929412   \n",
       "Densidade demográfica, 2000                            621.384314   \n",
       "Distância à capital (km)                               111.297856   \n",
       "Esperança de vida ao nascer, 2000                       70.414510   \n",
       "Taxa de fecundidade total, 2000                          2.270392   \n",
       "Renda per Capita, 2000                                 318.289216   \n",
       "Índice de Gini, 2000                                     0.551373   \n",
       "Intensidade da indigência, 2000                         59.336667   \n",
       "Intensidade da pobreza, 2000                            44.404510   \n",
       "Índice de Desenvolvimento Humano Municipal, 2000         0.787784   \n",
       "Taxa bruta de freqüência à escola, 2000                 83.480392   \n",
       "Taxa de alfabetização, 2000                             91.102549   \n",
       "Média de anos de estudo das pessoas de 25 anos ...       6.360588   \n",
       "Populacao                                           237905.470588   \n",
       "QTD_TOTAL_CNPJ_SUPERMERCADO                            563.039216   \n",
       "Variacao_Populacao_1991_a_2000                           0.347676   \n",
       "Percentual_Populacao_65_anos                             0.049851   \n",
       "Percentual_Populacao_Urbana                              0.942671   \n",
       "Populacao por Supermercados                            576.367958   \n",
       "n_clients                                               51.000000   \n",
       "\n",
       "cluster                                                         2  \\\n",
       "Área (km²)                                            3297.048571   \n",
       "Densidade demográfica, 2000                            131.557143   \n",
       "Distância à capital (km)                               208.612197   \n",
       "Esperança de vida ao nascer, 2000                       70.695000   \n",
       "Taxa de fecundidade total, 2000                          2.248286   \n",
       "Renda per Capita, 2000                                 347.123143   \n",
       "Índice de Gini, 2000                                     0.580000   \n",
       "Intensidade da indigência, 2000                         53.534571   \n",
       "Intensidade da pobreza, 2000                            40.553429   \n",
       "Índice de Desenvolvimento Humano Municipal, 2000         0.800329   \n",
       "Taxa bruta de freqüência à escola, 2000                 84.660857   \n",
       "Taxa de alfabetização, 2000                             91.969714   \n",
       "Média de anos de estudo das pessoas de 25 anos ...       6.554714   \n",
       "Populacao                                           244259.542857   \n",
       "QTD_TOTAL_CNPJ_SUPERMERCADO                            857.428571   \n",
       "Variacao_Populacao_1991_a_2000                           0.259309   \n",
       "Percentual_Populacao_65_anos                             0.056082   \n",
       "Percentual_Populacao_Urbana                              0.926592   \n",
       "Populacao por Supermercados                            321.535522   \n",
       "n_clients                                               70.000000   \n",
       "\n",
       "cluster                                                         3  \n",
       "Área (km²)                                            2899.410345  \n",
       "Densidade demográfica, 2000                            179.796552  \n",
       "Distância à capital (km)                               229.999104  \n",
       "Esperança de vida ao nascer, 2000                       67.871034  \n",
       "Taxa de fecundidade total, 2000                          2.584138  \n",
       "Renda per Capita, 2000                                 200.016207  \n",
       "Índice de Gini, 2000                                     0.582069  \n",
       "Intensidade da indigência, 2000                         52.402069  \n",
       "Intensidade da pobreza, 2000                            45.941034  \n",
       "Índice de Desenvolvimento Humano Municipal, 2000         0.726724  \n",
       "Taxa bruta de freqüência à escola, 2000                 82.206552  \n",
       "Taxa de alfabetização, 2000                             82.572069  \n",
       "Média de anos de estudo das pessoas de 25 anos ...       5.270690  \n",
       "Populacao                                           157854.724138  \n",
       "QTD_TOTAL_CNPJ_SUPERMERCADO                            307.931034  \n",
       "Variacao_Populacao_1991_a_2000                           0.225227  \n",
       "Percentual_Populacao_65_anos                             0.051317  \n",
       "Percentual_Populacao_Urbana                              0.857688  \n",
       "Populacao por Supermercados                            690.355660  \n",
       "n_clients                                               29.000000  "
      ]
     },
     "execution_count": 15,
     "metadata": {},
     "output_type": "execute_result"
    }
   ],
   "source": [
    "df_municipios[\"cluster\"] = labels_kmeans\n",
    "description = df_municipios.groupby(\"cluster\")\n",
    "n_clients = description.size()\n",
    "description = description.mean()\n",
    "description['n_clients'] = n_clients\n",
    "description.drop(columns = ['Código']).T"
   ]
  },
  {
   "cell_type": "markdown",
   "id": "fc471e55",
   "metadata": {},
   "source": [
    "Grupos:\n",
    "- Grupo formado com 73 cidades, composto por capitais e cidades metropolitantas mais populosas, com média da população de 721 mil habitantes e densidade demográfica de 3.330. Cada supermercado nesta região atende em média 502 pessoas, por mais que possuam o maior número de CNPJs de supermercados ainda tem espaço para competitividade. Exemplo: Rio de Janeiro (RJ), São Paulo (SP).\n",
    "\n",
    "\n",
    "- 51 cidades, com média de 110 km de distância da capital. Cresceram em média de 34% entre 1991 e 2000. Cada Supermercado desta região atende em média 576 pessoas, maior oportunidade de entrada para novos players. Exemplos: São José dos Campos (SP), Joinville (SC).\n",
    "\n",
    "\n",
    "- Grupo com 29 cidades, com média de 229km da capital, renda per capita de R$ 200,34. Grupo com menor crescimento entre 1991 e 2000 (22,52%) e maior percentual da população maior que 65 anos (5,13%). Exemplo: Santarém (PA), Caruaru (PE).\n",
    "\n",
    "\n",
    "- 70 cidades, composto pelas cidades de maior território, com menor densidade demográfica (131). Maior renda per capita de todos os clusters R$ 357. Apresenta o maior IDH de todos os grupos. Cada supermercado atende em média 321 pessoas, este cluster apresenta o maior número de competitividade dentre todos. Exemplo: Brasília (DF), Manaus (AM).\n",
    "\n",
    "\n"
   ]
  },
  {
   "cell_type": "code",
   "execution_count": 28,
   "id": "c719090b",
   "metadata": {},
   "outputs": [
    {
     "data": {
      "text/html": [
       "<div>\n",
       "<style scoped>\n",
       "    .dataframe tbody tr th:only-of-type {\n",
       "        vertical-align: middle;\n",
       "    }\n",
       "\n",
       "    .dataframe tbody tr th {\n",
       "        vertical-align: top;\n",
       "    }\n",
       "\n",
       "    .dataframe thead th {\n",
       "        text-align: right;\n",
       "    }\n",
       "</style>\n",
       "<table border=\"1\" class=\"dataframe\">\n",
       "  <thead>\n",
       "    <tr style=\"text-align: right;\">\n",
       "      <th></th>\n",
       "      <th>Município</th>\n",
       "      <th>Densidade demográfica, 2000</th>\n",
       "      <th>Populacao</th>\n",
       "      <th>Populacao por Supermercados</th>\n",
       "    </tr>\n",
       "  </thead>\n",
       "  <tbody>\n",
       "    <tr>\n",
       "      <th>181</th>\n",
       "      <td>Santarém (PA)</td>\n",
       "      <td>10.8</td>\n",
       "      <td>262538</td>\n",
       "      <td>421.409310</td>\n",
       "    </tr>\n",
       "    <tr>\n",
       "      <th>47</th>\n",
       "      <td>Caruaru (PE)</td>\n",
       "      <td>271.8</td>\n",
       "      <td>253634</td>\n",
       "      <td>592.602804</td>\n",
       "    </tr>\n",
       "    <tr>\n",
       "      <th>51</th>\n",
       "      <td>Caucaia (CE)</td>\n",
       "      <td>209.3</td>\n",
       "      <td>250479</td>\n",
       "      <td>525.113208</td>\n",
       "    </tr>\n",
       "    <tr>\n",
       "      <th>89</th>\n",
       "      <td>Ilhéus (BA)</td>\n",
       "      <td>120.1</td>\n",
       "      <td>222127</td>\n",
       "      <td>458.940083</td>\n",
       "    </tr>\n",
       "    <tr>\n",
       "      <th>150</th>\n",
       "      <td>Petrolina (PE)</td>\n",
       "      <td>45.9</td>\n",
       "      <td>218538</td>\n",
       "      <td>386.792920</td>\n",
       "    </tr>\n",
       "    <tr>\n",
       "      <th>131</th>\n",
       "      <td>Mossoró (RN)</td>\n",
       "      <td>100.4</td>\n",
       "      <td>213841</td>\n",
       "      <td>528.002469</td>\n",
       "    </tr>\n",
       "    <tr>\n",
       "      <th>127</th>\n",
       "      <td>Marília (SP)</td>\n",
       "      <td>168.1</td>\n",
       "      <td>197342</td>\n",
       "      <td>704.792857</td>\n",
       "    </tr>\n",
       "    <tr>\n",
       "      <th>200</th>\n",
       "      <td>Sete Lagoas (MG)</td>\n",
       "      <td>341.9</td>\n",
       "      <td>184871</td>\n",
       "      <td>644.149826</td>\n",
       "    </tr>\n",
       "    <tr>\n",
       "      <th>67</th>\n",
       "      <td>Divinópolis (MG)</td>\n",
       "      <td>258.4</td>\n",
       "      <td>183962</td>\n",
       "      <td>619.400673</td>\n",
       "    </tr>\n",
       "    <tr>\n",
       "      <th>109</th>\n",
       "      <td>Juazeiro (BA)</td>\n",
       "      <td>27.1</td>\n",
       "      <td>174567</td>\n",
       "      <td>354.091278</td>\n",
       "    </tr>\n",
       "    <tr>\n",
       "      <th>38</th>\n",
       "      <td>Camaçari (BA)</td>\n",
       "      <td>211.3</td>\n",
       "      <td>161727</td>\n",
       "      <td>502.257764</td>\n",
       "    </tr>\n",
       "    <tr>\n",
       "      <th>201</th>\n",
       "      <td>Sobral (CE)</td>\n",
       "      <td>72.9</td>\n",
       "      <td>155276</td>\n",
       "      <td>446.195402</td>\n",
       "    </tr>\n",
       "    <tr>\n",
       "      <th>34</th>\n",
       "      <td>Cabo de Santo Agostinho (PE)</td>\n",
       "      <td>340.8</td>\n",
       "      <td>152977</td>\n",
       "      <td>616.842742</td>\n",
       "    </tr>\n",
       "    <tr>\n",
       "      <th>105</th>\n",
       "      <td>Jequié (BA)</td>\n",
       "      <td>48.3</td>\n",
       "      <td>147202</td>\n",
       "      <td>415.824859</td>\n",
       "    </tr>\n",
       "    <tr>\n",
       "      <th>52</th>\n",
       "      <td>Caxias (MA)</td>\n",
       "      <td>26.3</td>\n",
       "      <td>139756</td>\n",
       "      <td>443.669841</td>\n",
       "    </tr>\n",
       "    <tr>\n",
       "      <th>49</th>\n",
       "      <td>Castanhal (PA)</td>\n",
       "      <td>130.6</td>\n",
       "      <td>134496</td>\n",
       "      <td>533.714286</td>\n",
       "    </tr>\n",
       "    <tr>\n",
       "      <th>21</th>\n",
       "      <td>Barreiras (BA)</td>\n",
       "      <td>11.0</td>\n",
       "      <td>131849</td>\n",
       "      <td>459.404181</td>\n",
       "    </tr>\n",
       "    <tr>\n",
       "      <th>1</th>\n",
       "      <td>Alagoinhas (BA)</td>\n",
       "      <td>175.9</td>\n",
       "      <td>130095</td>\n",
       "      <td>453.292683</td>\n",
       "    </tr>\n",
       "    <tr>\n",
       "      <th>211</th>\n",
       "      <td>Timon (MA)</td>\n",
       "      <td>74.7</td>\n",
       "      <td>129692</td>\n",
       "      <td>749.664740</td>\n",
       "    </tr>\n",
       "    <tr>\n",
       "      <th>162</th>\n",
       "      <td>Queimados (RJ)</td>\n",
       "      <td>1560.0</td>\n",
       "      <td>121993</td>\n",
       "      <td>5304.043478</td>\n",
       "    </tr>\n",
       "    <tr>\n",
       "      <th>6</th>\n",
       "      <td>Angra dos Reis (RJ)</td>\n",
       "      <td>146.0</td>\n",
       "      <td>119247</td>\n",
       "      <td>520.729258</td>\n",
       "    </tr>\n",
       "    <tr>\n",
       "      <th>0</th>\n",
       "      <td>Abaetetuba (PA)</td>\n",
       "      <td>73.8</td>\n",
       "      <td>119152</td>\n",
       "      <td>469.102362</td>\n",
       "    </tr>\n",
       "    <tr>\n",
       "      <th>180</th>\n",
       "      <td>Santa Rita (PB)</td>\n",
       "      <td>150.9</td>\n",
       "      <td>115844</td>\n",
       "      <td>449.007752</td>\n",
       "    </tr>\n",
       "    <tr>\n",
       "      <th>56</th>\n",
       "      <td>Colatina (ES)</td>\n",
       "      <td>62.9</td>\n",
       "      <td>112711</td>\n",
       "      <td>440.277344</td>\n",
       "    </tr>\n",
       "    <tr>\n",
       "      <th>104</th>\n",
       "      <td>Jaú (SP)</td>\n",
       "      <td>162.0</td>\n",
       "      <td>112104</td>\n",
       "      <td>640.594286</td>\n",
       "    </tr>\n",
       "    <tr>\n",
       "      <th>55</th>\n",
       "      <td>Codó (MA)</td>\n",
       "      <td>26.1</td>\n",
       "      <td>111146</td>\n",
       "      <td>424.221374</td>\n",
       "    </tr>\n",
       "    <tr>\n",
       "      <th>103</th>\n",
       "      <td>Jaraguá do Sul (SC)</td>\n",
       "      <td>200.7</td>\n",
       "      <td>108489</td>\n",
       "      <td>809.619403</td>\n",
       "    </tr>\n",
       "    <tr>\n",
       "      <th>207</th>\n",
       "      <td>Teixeira de Freitas (BA)</td>\n",
       "      <td>92.7</td>\n",
       "      <td>107486</td>\n",
       "      <td>707.144737</td>\n",
       "    </tr>\n",
       "    <tr>\n",
       "      <th>61</th>\n",
       "      <td>Crato (CE)</td>\n",
       "      <td>93.4</td>\n",
       "      <td>104646</td>\n",
       "      <td>399.412214</td>\n",
       "    </tr>\n",
       "  </tbody>\n",
       "</table>\n",
       "</div>"
      ],
      "text/plain": [
       "                        Município  Densidade demográfica, 2000  Populacao  \\\n",
       "181                 Santarém (PA)                         10.8     262538   \n",
       "47                   Caruaru (PE)                        271.8     253634   \n",
       "51                   Caucaia (CE)                        209.3     250479   \n",
       "89                    Ilhéus (BA)                        120.1     222127   \n",
       "150                Petrolina (PE)                         45.9     218538   \n",
       "131                  Mossoró (RN)                        100.4     213841   \n",
       "127                  Marília (SP)                        168.1     197342   \n",
       "200              Sete Lagoas (MG)                        341.9     184871   \n",
       "67               Divinópolis (MG)                        258.4     183962   \n",
       "109                 Juazeiro (BA)                         27.1     174567   \n",
       "38                  Camaçari (BA)                        211.3     161727   \n",
       "201                   Sobral (CE)                         72.9     155276   \n",
       "34   Cabo de Santo Agostinho (PE)                        340.8     152977   \n",
       "105                   Jequié (BA)                         48.3     147202   \n",
       "52                    Caxias (MA)                         26.3     139756   \n",
       "49                 Castanhal (PA)                        130.6     134496   \n",
       "21                 Barreiras (BA)                         11.0     131849   \n",
       "1                 Alagoinhas (BA)                        175.9     130095   \n",
       "211                    Timon (MA)                         74.7     129692   \n",
       "162                Queimados (RJ)                       1560.0     121993   \n",
       "6             Angra dos Reis (RJ)                        146.0     119247   \n",
       "0                 Abaetetuba (PA)                         73.8     119152   \n",
       "180               Santa Rita (PB)                        150.9     115844   \n",
       "56                  Colatina (ES)                         62.9     112711   \n",
       "104                      Jaú (SP)                        162.0     112104   \n",
       "55                      Codó (MA)                         26.1     111146   \n",
       "103           Jaraguá do Sul (SC)                        200.7     108489   \n",
       "207      Teixeira de Freitas (BA)                         92.7     107486   \n",
       "61                     Crato (CE)                         93.4     104646   \n",
       "\n",
       "     Populacao por Supermercados  \n",
       "181                   421.409310  \n",
       "47                    592.602804  \n",
       "51                    525.113208  \n",
       "89                    458.940083  \n",
       "150                   386.792920  \n",
       "131                   528.002469  \n",
       "127                   704.792857  \n",
       "200                   644.149826  \n",
       "67                    619.400673  \n",
       "109                   354.091278  \n",
       "38                    502.257764  \n",
       "201                   446.195402  \n",
       "34                    616.842742  \n",
       "105                   415.824859  \n",
       "52                    443.669841  \n",
       "49                    533.714286  \n",
       "21                    459.404181  \n",
       "1                     453.292683  \n",
       "211                   749.664740  \n",
       "162                  5304.043478  \n",
       "6                     520.729258  \n",
       "0                     469.102362  \n",
       "180                   449.007752  \n",
       "56                    440.277344  \n",
       "104                   640.594286  \n",
       "55                    424.221374  \n",
       "103                   809.619403  \n",
       "207                   707.144737  \n",
       "61                    399.412214  "
      ]
     },
     "execution_count": 28,
     "metadata": {},
     "output_type": "execute_result"
    }
   ],
   "source": [
    "df_municipios.query('cluster == 3')[['Município', 'Densidade demográfica, 2000', 'Populacao', 'Populacao por Supermercados']].sort_values(by='Populacao', ascending = False)"
   ]
  },
  {
   "cell_type": "markdown",
   "id": "5411677c",
   "metadata": {},
   "source": [
    "## 4. Exportando a base Modificada\n",
    "Exportando a base para o notebook para Elaboração do Modelo de Clusterização"
   ]
  },
  {
   "cell_type": "code",
   "execution_count": 29,
   "id": "09379fa0",
   "metadata": {},
   "outputs": [],
   "source": [
    "df_municipios.to_csv('../data/processed/base_clusterizacao.csv',\n",
    "                   sep=\";\",\n",
    "                   index=False)"
   ]
  },
  {
   "cell_type": "code",
   "execution_count": null,
   "id": "2486bb3a",
   "metadata": {},
   "outputs": [],
   "source": []
  }
 ],
 "metadata": {
  "kernelspec": {
   "display_name": "Python 3",
   "language": "python",
   "name": "python3"
  },
  "language_info": {
   "codemirror_mode": {
    "name": "ipython",
    "version": 3
   },
   "file_extension": ".py",
   "mimetype": "text/x-python",
   "name": "python",
   "nbconvert_exporter": "python",
   "pygments_lexer": "ipython3",
   "version": "3.8.5"
  }
 },
 "nbformat": 4,
 "nbformat_minor": 5
}
